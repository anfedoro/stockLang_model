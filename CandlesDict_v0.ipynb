{
 "cells": [
  {
   "cell_type": "code",
   "execution_count": 1,
   "metadata": {},
   "outputs": [],
   "source": [
    "import torch\n",
    "from torch import nn\n",
    "import pandas as pd\n",
    "import numpy as np\n",
    "import matplotlib.pyplot as plt\n",
    "import plotly.graph_objects as go\n",
    "import os.path\n"
   ]
  },
  {
   "cell_type": "code",
   "execution_count": 7,
   "metadata": {},
   "outputs": [
    {
     "data": {
      "text/html": [
       "<div>\n",
       "<style scoped>\n",
       "    .dataframe tbody tr th:only-of-type {\n",
       "        vertical-align: middle;\n",
       "    }\n",
       "\n",
       "    .dataframe tbody tr th {\n",
       "        vertical-align: top;\n",
       "    }\n",
       "\n",
       "    .dataframe thead th {\n",
       "        text-align: right;\n",
       "    }\n",
       "</style>\n",
       "<table border=\"1\" class=\"dataframe\">\n",
       "  <thead>\n",
       "    <tr style=\"text-align: right;\">\n",
       "      <th></th>\n",
       "      <th>open</th>\n",
       "      <th>high</th>\n",
       "      <th>low</th>\n",
       "      <th>close</th>\n",
       "    </tr>\n",
       "    <tr>\n",
       "      <th>date</th>\n",
       "      <th></th>\n",
       "      <th></th>\n",
       "      <th></th>\n",
       "      <th></th>\n",
       "    </tr>\n",
       "  </thead>\n",
       "  <tbody>\n",
       "    <tr>\n",
       "      <th>2023-03-13 04:00:00+00:00</th>\n",
       "      <td>12177.25</td>\n",
       "      <td>12179.00</td>\n",
       "      <td>12177.25</td>\n",
       "      <td>12179.00</td>\n",
       "    </tr>\n",
       "    <tr>\n",
       "      <th>2023-03-13 04:00:15+00:00</th>\n",
       "      <td>12179.00</td>\n",
       "      <td>12179.25</td>\n",
       "      <td>12179.00</td>\n",
       "      <td>12179.25</td>\n",
       "    </tr>\n",
       "    <tr>\n",
       "      <th>2023-03-13 04:00:30+00:00</th>\n",
       "      <td>12181.25</td>\n",
       "      <td>12181.25</td>\n",
       "      <td>12180.25</td>\n",
       "      <td>12180.75</td>\n",
       "    </tr>\n",
       "    <tr>\n",
       "      <th>2023-03-13 04:00:45+00:00</th>\n",
       "      <td>12179.50</td>\n",
       "      <td>12179.75</td>\n",
       "      <td>12179.25</td>\n",
       "      <td>12179.75</td>\n",
       "    </tr>\n",
       "    <tr>\n",
       "      <th>2023-03-13 04:01:00+00:00</th>\n",
       "      <td>12180.00</td>\n",
       "      <td>12181.75</td>\n",
       "      <td>12180.00</td>\n",
       "      <td>12180.50</td>\n",
       "    </tr>\n",
       "  </tbody>\n",
       "</table>\n",
       "</div>"
      ],
      "text/plain": [
       "                               open      high       low     close\n",
       "date                                                             \n",
       "2023-03-13 04:00:00+00:00  12177.25  12179.00  12177.25  12179.00\n",
       "2023-03-13 04:00:15+00:00  12179.00  12179.25  12179.00  12179.25\n",
       "2023-03-13 04:00:30+00:00  12181.25  12181.25  12180.25  12180.75\n",
       "2023-03-13 04:00:45+00:00  12179.50  12179.75  12179.25  12179.75\n",
       "2023-03-13 04:01:00+00:00  12180.00  12181.75  12180.00  12180.50"
      ]
     },
     "execution_count": 7,
     "metadata": {},
     "output_type": "execute_result"
    }
   ],
   "source": [
    "\n",
    "\n",
    "dataset = './data/nqh23_15sec.csv'\n",
    "tick_data = './data/NQ 06-23.Last.csv'\n",
    "if os.path.isfile(dataset):\n",
    "    df1 = pd.read_csv(dataset)\n",
    "\n",
    "else:\n",
    "    header = ('date','last')\n",
    "    df = pd.read_csv(tick_data, delimiter=';', usecols=[0,1], header=None, names=header)\n",
    "    df['date'] = pd.to_datetime(df['date'], format='%Y%m%d %H%M%S %f', utc = True)\n",
    "    df1 = df.resample(\"15s\", on = 'date',).ohlc()['last']\n",
    "    df1.dropna(inplace=True)\n",
    "    df1.to_csv(dataset)\n",
    "\n",
    "df1.head()"
   ]
  },
  {
   "cell_type": "code",
   "execution_count": 8,
   "metadata": {},
   "outputs": [
    {
     "data": {
      "text/html": [
       "<div>\n",
       "<style scoped>\n",
       "    .dataframe tbody tr th:only-of-type {\n",
       "        vertical-align: middle;\n",
       "    }\n",
       "\n",
       "    .dataframe tbody tr th {\n",
       "        vertical-align: top;\n",
       "    }\n",
       "\n",
       "    .dataframe thead th {\n",
       "        text-align: right;\n",
       "    }\n",
       "</style>\n",
       "<table border=\"1\" class=\"dataframe\">\n",
       "  <thead>\n",
       "    <tr style=\"text-align: right;\">\n",
       "      <th></th>\n",
       "      <th>open</th>\n",
       "      <th>high</th>\n",
       "      <th>low</th>\n",
       "      <th>close</th>\n",
       "      <th>green</th>\n",
       "      <th>red</th>\n",
       "      <th>dodgy</th>\n",
       "      <th>full_body</th>\n",
       "      <th>good_body</th>\n",
       "      <th>small_body</th>\n",
       "      <th>upper_body</th>\n",
       "      <th>lower_body</th>\n",
       "      <th>class</th>\n",
       "    </tr>\n",
       "    <tr>\n",
       "      <th>date</th>\n",
       "      <th></th>\n",
       "      <th></th>\n",
       "      <th></th>\n",
       "      <th></th>\n",
       "      <th></th>\n",
       "      <th></th>\n",
       "      <th></th>\n",
       "      <th></th>\n",
       "      <th></th>\n",
       "      <th></th>\n",
       "      <th></th>\n",
       "      <th></th>\n",
       "      <th></th>\n",
       "    </tr>\n",
       "  </thead>\n",
       "  <tbody>\n",
       "    <tr>\n",
       "      <th>2023-03-13 04:00:00+00:00</th>\n",
       "      <td>12177.25</td>\n",
       "      <td>12179.00</td>\n",
       "      <td>12177.25</td>\n",
       "      <td>12179.00</td>\n",
       "      <td>1</td>\n",
       "      <td>0</td>\n",
       "      <td>0</td>\n",
       "      <td>1</td>\n",
       "      <td>1</td>\n",
       "      <td>0</td>\n",
       "      <td>0</td>\n",
       "      <td>0</td>\n",
       "      <td>19</td>\n",
       "    </tr>\n",
       "    <tr>\n",
       "      <th>2023-03-13 04:00:15+00:00</th>\n",
       "      <td>12179.00</td>\n",
       "      <td>12179.25</td>\n",
       "      <td>12179.00</td>\n",
       "      <td>12179.25</td>\n",
       "      <td>1</td>\n",
       "      <td>0</td>\n",
       "      <td>0</td>\n",
       "      <td>1</td>\n",
       "      <td>1</td>\n",
       "      <td>0</td>\n",
       "      <td>0</td>\n",
       "      <td>0</td>\n",
       "      <td>19</td>\n",
       "    </tr>\n",
       "    <tr>\n",
       "      <th>2023-03-13 04:00:30+00:00</th>\n",
       "      <td>12181.25</td>\n",
       "      <td>12181.25</td>\n",
       "      <td>12180.25</td>\n",
       "      <td>12180.75</td>\n",
       "      <td>0</td>\n",
       "      <td>1</td>\n",
       "      <td>0</td>\n",
       "      <td>0</td>\n",
       "      <td>1</td>\n",
       "      <td>0</td>\n",
       "      <td>1</td>\n",
       "      <td>0</td>\n",
       "      <td>9</td>\n",
       "    </tr>\n",
       "    <tr>\n",
       "      <th>2023-03-13 04:00:45+00:00</th>\n",
       "      <td>12179.50</td>\n",
       "      <td>12179.75</td>\n",
       "      <td>12179.25</td>\n",
       "      <td>12179.75</td>\n",
       "      <td>1</td>\n",
       "      <td>0</td>\n",
       "      <td>0</td>\n",
       "      <td>0</td>\n",
       "      <td>1</td>\n",
       "      <td>0</td>\n",
       "      <td>1</td>\n",
       "      <td>0</td>\n",
       "      <td>18</td>\n",
       "    </tr>\n",
       "    <tr>\n",
       "      <th>2023-03-13 04:01:00+00:00</th>\n",
       "      <td>12180.00</td>\n",
       "      <td>12181.75</td>\n",
       "      <td>12180.00</td>\n",
       "      <td>12180.50</td>\n",
       "      <td>1</td>\n",
       "      <td>0</td>\n",
       "      <td>0</td>\n",
       "      <td>0</td>\n",
       "      <td>0</td>\n",
       "      <td>1</td>\n",
       "      <td>0</td>\n",
       "      <td>1</td>\n",
       "      <td>14</td>\n",
       "    </tr>\n",
       "  </tbody>\n",
       "</table>\n",
       "</div>"
      ],
      "text/plain": [
       "                               open      high       low     close  green  red  \\\n",
       "date                                                                            \n",
       "2023-03-13 04:00:00+00:00  12177.25  12179.00  12177.25  12179.00      1    0   \n",
       "2023-03-13 04:00:15+00:00  12179.00  12179.25  12179.00  12179.25      1    0   \n",
       "2023-03-13 04:00:30+00:00  12181.25  12181.25  12180.25  12180.75      0    1   \n",
       "2023-03-13 04:00:45+00:00  12179.50  12179.75  12179.25  12179.75      1    0   \n",
       "2023-03-13 04:01:00+00:00  12180.00  12181.75  12180.00  12180.50      1    0   \n",
       "\n",
       "                           dodgy  full_body  good_body  small_body  \\\n",
       "date                                                                 \n",
       "2023-03-13 04:00:00+00:00      0          1          1           0   \n",
       "2023-03-13 04:00:15+00:00      0          1          1           0   \n",
       "2023-03-13 04:00:30+00:00      0          0          1           0   \n",
       "2023-03-13 04:00:45+00:00      0          0          1           0   \n",
       "2023-03-13 04:01:00+00:00      0          0          0           1   \n",
       "\n",
       "                           upper_body  lower_body  class  \n",
       "date                                                      \n",
       "2023-03-13 04:00:00+00:00           0           0     19  \n",
       "2023-03-13 04:00:15+00:00           0           0     19  \n",
       "2023-03-13 04:00:30+00:00           1           0      9  \n",
       "2023-03-13 04:00:45+00:00           1           0     18  \n",
       "2023-03-13 04:01:00+00:00           0           1     14  "
      ]
     },
     "execution_count": 8,
     "metadata": {},
     "output_type": "execute_result"
    }
   ],
   "source": [
    "\n",
    "\n",
    "\n",
    "# Candle color features\n",
    "df1['green'] = (df1['open'] < df1['close']).astype(int)\n",
    "df1['red'] = (df1['open'] > df1['close']).astype(int)\n",
    "df1['dodgy'] = (df1['open'] == df1['close']).astype(int)\n",
    "\n",
    "\n",
    "#Candle budy features\n",
    "df1['full_body'] = (abs(df1['close'] - df1['open'])/(df1['high'] - df1['low']) >= 0.8).astype(int)\n",
    "df1['good_body'] = (abs(df1['close'] - df1['open'])/(df1['high'] - df1['low']) >= 0.3).astype(int)\n",
    "df1['small_body'] = (abs(df1['close'] - df1['open'])/(df1['high'] - df1['low']) < 0.3).astype(int)\n",
    "df1['upper_body'] = (((df1['high'] == df1['close']) & (df1['low'] != df1['open'])) | \n",
    "                    ((df1['high'] == df1['open']) & (df1['low'] != df1['close']))).astype(int)\n",
    "df1['lower_body'] = (((df1['high'] != df1['close']) & (df1['low'] == df1['open'])) | \n",
    "                    ((df1['high'] != df1['open']) & (df1['low'] == df1['close']))).astype(int)\n",
    "#df1['ratio'] = ((df1['high'] - df1['low']) > (df1['high'].shift(1) - df1['low'].shift(1))).astype(int)\n",
    "                    \n",
    "\n",
    "# Function generating multiplicator string for binary features conversion to a candle class number\n",
    "def mult_row (x):\n",
    "    raw = []\n",
    "    for i in range(x-1,-1,-1):\n",
    "        raw.append(2**i)\n",
    "        \n",
    "    return raw\n",
    "# Class definition for each candle based on candles features binary threatment\n",
    "df1['class'] = np.sum(df1.iloc[:,4:].values * mult_row(df1.iloc[:,4:].values.shape[1]),axis=1,keepdims=True)\n",
    "\n",
    "# Class simplification based on unic class ID\n",
    "cdl_classes  = sorted(set(df1['class'].values))\n",
    "cltoi = {s:i for i,s in enumerate(cdl_classes)}\n",
    "df1['class'] = df1['class'].apply(lambda x : cltoi[x])\n",
    "df1.dropna(inplace=True)\n",
    "df1.head()"
   ]
  },
  {
   "cell_type": "code",
   "execution_count": 9,
   "metadata": {},
   "outputs": [],
   "source": [
    "#Filling up the tensor with number of candle pairs\n",
    "candles = df1['class'].values\n",
    "n_classes = len(set(candles))\n",
    "N = torch.zeros((n_classes,n_classes),dtype=torch.int32)\n",
    "for cdl1, cdl2 in zip(candles, candles[1:]):\n",
    "    \n",
    "    N[cdl1,cdl2] +=1"
   ]
  },
  {
   "cell_type": "code",
   "execution_count": 190,
   "metadata": {},
   "outputs": [],
   "source": [
    "#Example ho to link class index with class ID.. in case if they are different. \n",
    "#Not used in my scenario as all unique classes are converter in their indexes in the dataset\n",
    "# cdl_classes  = sorted(set(candles))\n",
    "# cltoi = {s:i for i,s in enumerate(cdl_classes)}\n",
    "# itocl = {i:s for s,i in cltoi.items()}\n"
   ]
  },
  {
   "cell_type": "code",
   "execution_count": 11,
   "metadata": {},
   "outputs": [
    {
     "data": {
      "image/png": "[encoded data removed]",
      "text/plain": [
       "<Figure size 2200x2200 with 1 Axes>"
      ]
     },
     "metadata": {},
     "output_type": "display_data"
    }
   ],
   "source": [
    "# Plot heatmap with number of possible candle pairs\n",
    "\n",
    "plt.rcParams.update({'font.size': 9})\n",
    "\n",
    "plt.figure(figsize=(22,22))\n",
    "plt.imshow(N, cmap='Blues')\n",
    "for i in range(n_classes):\n",
    "    for j in range(n_classes):\n",
    "        chstr = str(i) + ' ' + str(j)\n",
    "        plt.text(j, i, chstr, ha=\"center\", va=\"bottom\", color='black')\n",
    "        plt.text(j, i, N[i, j].item(), ha=\"center\", va=\"top\", color='gray')\n",
    "plt.axis('off');"
   ]
  },
  {
   "cell_type": "code",
   "execution_count": 12,
   "metadata": {},
   "outputs": [],
   "source": []
  },
  {
   "cell_type": "code",
   "execution_count": 13,
   "metadata": {},
   "outputs": [],
   "source": [
    "#Initialise Generator\n",
    "\n",
    "g = torch.Generator().manual_seed(27657)\n"
   ]
  },
  {
   "cell_type": "markdown",
   "metadata": {},
   "source": [
    "#### Candles reconstruction\n",
    " Here is a try to reconstruct the serions of candles based on what was generation based on candle pair probabilities,\n",
    " Sure these is very artificial as the only  generic candle view is reproduces and no size change is considered.\n",
    " This is matter of futher project development"
   ]
  },
  {
   "cell_type": "code",
   "execution_count": 28,
   "metadata": {},
   "outputs": [],
   "source": [
    "#Generate candles sequencies based on pairs probabilities and candle reconstration based on list of candle classes\n",
    "\n",
    "P = (N).float()+0.01  #Create tensor with pair probabilities \n",
    "P /= P.sum(1, keepdims=True)\n",
    "\n",
    "\n",
    "for i in range(1): \n",
    "  out = []\n",
    "  ix = 0\n",
    "  for i in range(100):\n",
    "    p = P[ix]\n",
    "    ix = torch.multinomial(p, num_samples=1, replacement=True, generator=g).item()\n",
    "    out.append(ix)\n",
    "\n",
    "\n",
    "# function to reconstruct candles\n",
    "\n",
    "class_features = df1.groupby('class').sample().iloc[:,4:-1].values\n",
    "\n",
    "cdl = []\n",
    "\n",
    "for i in range(len(out)):\n",
    "\n",
    "    candle_features = class_features[out[i]]\n",
    "    c = {}\n",
    "\n",
    "\n",
    "    # define candle color and body size & shift for both first and following candles.\n",
    "\n",
    "    if candle_features[0] == 1:\n",
    "\n",
    "        if candle_features[3] == 1:\n",
    "            c = {'open': .0, 'high': .95, 'low': -.05, 'close': .9}\n",
    "        elif candle_features[4] == 1:\n",
    "            c = {'open': .0, 'high': 0.75, 'low': -.25, 'close': 0.5}\n",
    "        elif candle_features[5] == 1:\n",
    "            c = {'open': .0, 'high': 0.55, 'low': -.45, 'close': 0.2}  \n",
    "\n",
    "        if candle_features[6] == 1:\n",
    "            shift = c['high'] - c['close']  \n",
    "            c['high']  -= shift\n",
    "            c['low'] -= shift\n",
    "        elif candle_features[7] == 1:\n",
    "            shift = c['open'] - c['low']  \n",
    "            c['low']  += shift\n",
    "            c['high'] += shift\n",
    "\n",
    "    elif candle_features[1] == 1:\n",
    "\n",
    "\n",
    "        if candle_features[3] == 1:\n",
    "            c = {'open': .0, 'high': .05, 'low': -.95, 'close': -.9}\n",
    "        elif candle_features[4] == 1:\n",
    "            c = {'open': .0, 'high': .25, 'low': -.75, 'close': -0.5}\n",
    "        elif candle_features[5] == 1:\n",
    "            c = {'open': .0, 'high': .45, 'low': -.55, 'close': -0.25}\n",
    "\n",
    "        if candle_features[6] == 1:\n",
    "            shift = c['high'] - c['open']  \n",
    "            c['high']  -= shift\n",
    "            c['low'] -= shift\n",
    "        elif candle_features[7] == 1:\n",
    "            shift = c['close'] - c['low']  \n",
    "            c['high']  += shift\n",
    "            c['low'] += shift\n",
    "\n",
    "    elif candle_features[2] == 1:\n",
    "        c = {'open': 0, 'high': .5, 'low': -.5, 'close': 0}\n",
    "        if candle_features[6] == 1:\n",
    "            shift = .45  \n",
    "            c['high']  -= shift\n",
    "            c['low'] -= shift\n",
    "        elif candle_features[7] == 1:\n",
    "            shift = .45  \n",
    "            c['high']  += shift\n",
    "            c['low'] += shift\n",
    "    \n",
    "    c['class'] = out[i]\n",
    "\n",
    "    if i == 0:\n",
    "        \n",
    "        cdl.append(c)\n",
    "    else:\n",
    "        c['open'] += cdl[-1]['close']\n",
    "        c['high'] += cdl[-1]['close']\n",
    "        c['low'] += cdl[-1]['close']\n",
    "        c['close'] += cdl[-1]['close']\n",
    "        cdl.append(c)\n",
    "    \n"
   ]
  },
  {
   "cell_type": "code",
   "execution_count": 29,
   "metadata": {},
   "outputs": [
    {
     "data": {
      "application/vnd.plotly.v1+json": {
       "config": {
        "plotlyServerURL": "https://plot.ly"
       },
       "data": [
        {
         "close": [
          0.2,
          0.7,
          1.2,
          0.7,
          0.19999999999999996,
          -0.30000000000000004,
          0.19999999999999996,
          0.7,
          1.2,
          0.29999999999999993,
          0.29999999999999993,
          0.29999999999999993,
          0.7999999999999999,
          0.7999999999999999,
          1.7,
          1.7,
          1.2,
          2.1,
          2.1,
          1.2000000000000002,
          1.2000000000000002,
          1.2000000000000002,
          0.7000000000000002,
          0.20000000000000018,
          0.4000000000000002,
          0.9000000000000001,
          0.6500000000000001,
          1.1500000000000001,
          1.1500000000000001,
          2.0500000000000003,
          1.1500000000000004,
          0.9000000000000004,
          1.1000000000000003,
          1.6000000000000003,
          1.1000000000000003,
          1.3000000000000003,
          1.3000000000000003,
          1.3000000000000003,
          1.0500000000000003,
          0.5500000000000003,
          0.050000000000000266,
          -0.44999999999999973,
          -0.44999999999999973,
          -0.44999999999999973,
          -1.3499999999999996,
          -1.8499999999999996,
          -1.3499999999999996,
          -0.8499999999999996,
          -0.34999999999999964,
          0.15000000000000036,
          0.15000000000000036,
          0.6500000000000004,
          -0.24999999999999967,
          0.25000000000000033,
          -0.6499999999999997,
          0.25000000000000033,
          0.7500000000000003,
          0.25000000000000033,
          1.1500000000000004,
          1.1500000000000004,
          1.1500000000000004,
          1.1500000000000004,
          1.1500000000000004,
          1.1500000000000004,
          2.0500000000000003,
          2.0500000000000003,
          1.1500000000000004,
          0.25000000000000033,
          1.1500000000000004,
          2.0500000000000003,
          1.5500000000000003,
          1.7500000000000002,
          2.25,
          2,
          2.5,
          3,
          2.5,
          2.7,
          2.7,
          3.2,
          4.1000000000000005,
          3.6000000000000005,
          4.1000000000000005,
          3.2000000000000006,
          3.2000000000000006,
          2.3000000000000007,
          2.3000000000000007,
          2.3000000000000007,
          3.2000000000000006,
          4.1000000000000005,
          4.1000000000000005,
          4.1000000000000005,
          3.2000000000000006,
          4.1000000000000005,
          4.1000000000000005,
          3.2000000000000006,
          3.2000000000000006,
          2.9500000000000006,
          3.4500000000000006,
          2.9500000000000006
         ],
         "high": [
          0.2,
          0.95,
          1.7,
          1.45,
          0.95,
          0.44999999999999996,
          0.44999999999999996,
          0.7,
          1.45,
          1.25,
          0.3499999999999999,
          0.3499999999999999,
          1.2999999999999998,
          1.2999999999999998,
          1.75,
          2.2,
          1.95,
          2.15,
          2.6,
          2.15,
          1.7000000000000002,
          1.7000000000000002,
          1.7000000000000002,
          0.7000000000000002,
          0.7500000000000002,
          1.1500000000000001,
          1.6500000000000001,
          1.1500000000000001,
          1.6500000000000001,
          2.1500000000000004,
          2.1500000000000004,
          1.6000000000000003,
          1.4500000000000004,
          1.8500000000000003,
          1.8500000000000003,
          1.6500000000000004,
          1.8000000000000003,
          1.3500000000000003,
          2.0500000000000003,
          1.0500000000000003,
          0.8000000000000003,
          0.050000000000000266,
          0.050000000000000266,
          0.050000000000000266,
          -0.39999999999999974,
          -0.8499999999999996,
          -1.0999999999999996,
          -0.8499999999999996,
          -0.09999999999999964,
          0.15000000000000036,
          0.6500000000000004,
          0.6500000000000004,
          0.7000000000000004,
          0.25000000000000033,
          0.3000000000000003,
          0.30000000000000027,
          1.2500000000000004,
          1.0000000000000004,
          1.2000000000000002,
          1.6500000000000004,
          1.6500000000000004,
          1.6500000000000004,
          1.6500000000000004,
          1.6500000000000004,
          2.1000000000000005,
          2.5500000000000003,
          2.1,
          1.2000000000000004,
          1.2000000000000002,
          2.1000000000000005,
          2.0500000000000003,
          2.1000000000000005,
          2.5,
          2.7,
          3,
          3.5,
          3,
          3.05,
          3.2,
          3.7,
          4.15,
          4.1000000000000005,
          4.1000000000000005,
          4.15,
          3.7000000000000006,
          3.2500000000000004,
          3.250000000000001,
          2.8000000000000007,
          3.250000000000001,
          4.15,
          4.6000000000000005,
          4.6000000000000005,
          4.15,
          4.15,
          4.6000000000000005,
          4.1000000000000005,
          3.7000000000000006,
          3.650000000000001,
          3.7000000000000006,
          3.9500000000000006
         ],
         "low": [
          -0.8,
          -0.04999999999999999,
          0.7,
          0.44999999999999996,
          -0.050000000000000044,
          -0.55,
          -0.55,
          -0.30000000000000004,
          0.44999999999999996,
          0.25,
          -0.65,
          -0.65,
          0.29999999999999993,
          0.29999999999999993,
          0.7499999999999999,
          1.2,
          0.95,
          1.15,
          1.6,
          1.1500000000000001,
          0.7000000000000002,
          0.7000000000000002,
          0.7000000000000002,
          -0.2999999999999998,
          -0.24999999999999983,
          0.1500000000000002,
          0.6500000000000001,
          0.15000000000000013,
          0.6500000000000001,
          1.1500000000000001,
          1.1500000000000004,
          0.6000000000000003,
          0.45000000000000034,
          0.8500000000000003,
          0.8500000000000003,
          0.6500000000000004,
          0.8000000000000003,
          0.3500000000000003,
          1.0500000000000003,
          0.050000000000000266,
          -0.19999999999999973,
          -0.9499999999999997,
          -0.9499999999999997,
          -0.9499999999999997,
          -1.3999999999999997,
          -1.8499999999999996,
          -2.0999999999999996,
          -1.8499999999999996,
          -1.0999999999999996,
          -0.8499999999999996,
          -0.34999999999999964,
          -0.34999999999999964,
          -0.2999999999999996,
          -0.7499999999999997,
          -0.6999999999999996,
          -0.6999999999999997,
          0.25000000000000033,
          3.3306690738754696e-16,
          0.20000000000000034,
          0.6500000000000004,
          0.6500000000000004,
          0.6500000000000004,
          0.6500000000000004,
          0.6500000000000004,
          1.1000000000000003,
          1.5500000000000003,
          1.1000000000000003,
          0.2000000000000004,
          0.20000000000000034,
          1.1000000000000003,
          1.0500000000000003,
          1.1000000000000003,
          1.5000000000000002,
          1.7,
          2,
          2.5,
          2,
          2.05,
          2.2,
          2.7,
          3.1500000000000004,
          3.1000000000000005,
          3.1000000000000005,
          3.1500000000000004,
          2.7000000000000006,
          2.250000000000001,
          2.250000000000001,
          1.8000000000000007,
          2.250000000000001,
          3.150000000000001,
          3.6000000000000005,
          3.6000000000000005,
          3.1500000000000004,
          3.150000000000001,
          3.6000000000000005,
          3.1000000000000005,
          2.7000000000000006,
          2.6500000000000004,
          2.7000000000000006,
          2.9500000000000006
         ],
         "open": [
          0,
          0.2,
          0.7,
          1.2,
          0.7,
          0.19999999999999996,
          -0.30000000000000004,
          0.19999999999999996,
          0.7,
          1.2,
          0.29999999999999993,
          0.29999999999999993,
          0.29999999999999993,
          0.7999999999999999,
          0.7999999999999999,
          1.7,
          1.7,
          1.2,
          2.1,
          2.1,
          1.2000000000000002,
          1.2000000000000002,
          1.2000000000000002,
          0.7000000000000002,
          0.20000000000000018,
          0.4000000000000002,
          0.9000000000000001,
          0.6500000000000001,
          1.1500000000000001,
          1.1500000000000001,
          2.0500000000000003,
          1.1500000000000004,
          0.9000000000000004,
          1.1000000000000003,
          1.6000000000000003,
          1.1000000000000003,
          1.3000000000000003,
          1.3000000000000003,
          1.3000000000000003,
          1.0500000000000003,
          0.5500000000000003,
          0.050000000000000266,
          -0.44999999999999973,
          -0.44999999999999973,
          -0.44999999999999973,
          -1.3499999999999996,
          -1.8499999999999996,
          -1.3499999999999996,
          -0.8499999999999996,
          -0.34999999999999964,
          0.15000000000000036,
          0.15000000000000036,
          0.6500000000000004,
          -0.24999999999999967,
          0.25000000000000033,
          -0.6499999999999997,
          0.25000000000000033,
          0.7500000000000003,
          0.25000000000000033,
          1.1500000000000004,
          1.1500000000000004,
          1.1500000000000004,
          1.1500000000000004,
          1.1500000000000004,
          1.1500000000000004,
          2.0500000000000003,
          2.0500000000000003,
          1.1500000000000004,
          0.25000000000000033,
          1.1500000000000004,
          2.0500000000000003,
          1.5500000000000003,
          1.7500000000000002,
          2.25,
          2,
          2.5,
          3,
          2.5,
          2.7,
          2.7,
          3.2,
          4.1000000000000005,
          3.6000000000000005,
          4.1000000000000005,
          3.2000000000000006,
          3.2000000000000006,
          2.3000000000000007,
          2.3000000000000007,
          2.3000000000000007,
          3.2000000000000006,
          4.1000000000000005,
          4.1000000000000005,
          4.1000000000000005,
          3.2000000000000006,
          4.1000000000000005,
          4.1000000000000005,
          3.2000000000000006,
          3.2000000000000006,
          2.9500000000000006,
          3.4500000000000006
         ],
         "type": "candlestick",
         "x": [
          0,
          1,
          2,
          3,
          4,
          5,
          6,
          7,
          8,
          9,
          10,
          11,
          12,
          13,
          14,
          15,
          16,
          17,
          18,
          19,
          20,
          21,
          22,
          23,
          24,
          25,
          26,
          27,
          28,
          29,
          30,
          31,
          32,
          33,
          34,
          35,
          36,
          37,
          38,
          39,
          40,
          41,
          42,
          43,
          44,
          45,
          46,
          47,
          48,
          49,
          50,
          51,
          52,
          53,
          54,
          55,
          56,
          57,
          58,
          59,
          60,
          61,
          62,
          63,
          64,
          65,
          66,
          67,
          68,
          69,
          70,
          71,
          72,
          73,
          74,
          75,
          76,
          77,
          78,
          79,
          80,
          81,
          82,
          83,
          84,
          85,
          86,
          87,
          88,
          89,
          90,
          91,
          92,
          93,
          94,
          95,
          96,
          97,
          98,
          99
         ]
        },
        {
         "mode": "text",
         "text": [
          15,
          16,
          17,
          7,
          7,
          7,
          16,
          18,
          16,
          10,
          3,
          3,
          17,
          0,
          19,
          1,
          7,
          19,
          0,
          10,
          1,
          0,
          8,
          9,
          13,
          16,
          5,
          18,
          0,
          20,
          11,
          4,
          13,
          16,
          7,
          13,
          1,
          3,
          5,
          9,
          7,
          9,
          0,
          0,
          10,
          8,
          16,
          18,
          16,
          18,
          1,
          18,
          10,
          18,
          10,
          19,
          17,
          7,
          19,
          0,
          0,
          0,
          0,
          0,
          19,
          1,
          10,
          10,
          19,
          19,
          9,
          13,
          16,
          4,
          17,
          17,
          9,
          13,
          1,
          17,
          19,
          9,
          18,
          10,
          0,
          10,
          2,
          0,
          19,
          19,
          0,
          1,
          10,
          19,
          0,
          12,
          1,
          4,
          16,
          8
         ],
         "textfont": {
          "size": 8
         },
         "textposition": "top center",
         "type": "scatter",
         "x": [
          0,
          1,
          2,
          3,
          4,
          5,
          6,
          7,
          8,
          9,
          10,
          11,
          12,
          13,
          14,
          15,
          16,
          17,
          18,
          19,
          20,
          21,
          22,
          23,
          24,
          25,
          26,
          27,
          28,
          29,
          30,
          31,
          32,
          33,
          34,
          35,
          36,
          37,
          38,
          39,
          40,
          41,
          42,
          43,
          44,
          45,
          46,
          47,
          48,
          49,
          50,
          51,
          52,
          53,
          54,
          55,
          56,
          57,
          58,
          59,
          60,
          61,
          62,
          63,
          64,
          65,
          66,
          67,
          68,
          69,
          70,
          71,
          72,
          73,
          74,
          75,
          76,
          77,
          78,
          79,
          80,
          81,
          82,
          83,
          84,
          85,
          86,
          87,
          88,
          89,
          90,
          91,
          92,
          93,
          94,
          95,
          96,
          97,
          98,
          99
         ],
         "y": [
          0.2,
          0.95,
          1.7,
          1.45,
          0.95,
          0.44999999999999996,
          0.44999999999999996,
          0.7,
          1.45,
          1.25,
          0.3499999999999999,
          0.3499999999999999,
          1.2999999999999998,
          1.2999999999999998,
          1.75,
          2.2,
          1.95,
          2.15,
          2.6,
          2.15,
          1.7000000000000002,
          1.7000000000000002,
          1.7000000000000002,
          0.7000000000000002,
          0.7500000000000002,
          1.1500000000000001,
          1.6500000000000001,
          1.1500000000000001,
          1.6500000000000001,
          2.1500000000000004,
          2.1500000000000004,
          1.6000000000000003,
          1.4500000000000004,
          1.8500000000000003,
          1.8500000000000003,
          1.6500000000000004,
          1.8000000000000003,
          1.3500000000000003,
          2.0500000000000003,
          1.0500000000000003,
          0.8000000000000003,
          0.050000000000000266,
          0.050000000000000266,
          0.050000000000000266,
          -0.39999999999999974,
          -0.8499999999999996,
          -1.0999999999999996,
          -0.8499999999999996,
          -0.09999999999999964,
          0.15000000000000036,
          0.6500000000000004,
          0.6500000000000004,
          0.7000000000000004,
          0.25000000000000033,
          0.3000000000000003,
          0.30000000000000027,
          1.2500000000000004,
          1.0000000000000004,
          1.2000000000000002,
          1.6500000000000004,
          1.6500000000000004,
          1.6500000000000004,
          1.6500000000000004,
          1.6500000000000004,
          2.1000000000000005,
          2.5500000000000003,
          2.1,
          1.2000000000000004,
          1.2000000000000002,
          2.1000000000000005,
          2.0500000000000003,
          2.1000000000000005,
          2.5,
          2.7,
          3,
          3.5,
          3,
          3.05,
          3.2,
          3.7,
          4.15,
          4.1000000000000005,
          4.1000000000000005,
          4.15,
          3.7000000000000006,
          3.2500000000000004,
          3.250000000000001,
          2.8000000000000007,
          3.250000000000001,
          4.15,
          4.6000000000000005,
          4.6000000000000005,
          4.15,
          4.15,
          4.6000000000000005,
          4.1000000000000005,
          3.7000000000000006,
          3.650000000000001,
          3.7000000000000006,
          3.9500000000000006
         ]
        }
       ],
       "layout": {
        "template": {
         "data": {
          "bar": [
           {
            "error_x": {
             "color": "#2a3f5f"
            },
            "error_y": {
             "color": "#2a3f5f"
            },
            "marker": {
             "line": {
              "color": "#E5ECF6",
              "width": 0.5
             },
             "pattern": {
              "fillmode": "overlay",
              "size": 10,
              "solidity": 0.2
             }
            },
            "type": "bar"
           }
          ],
          "barpolar": [
           {
            "marker": {
             "line": {
              "color": "#E5ECF6",
              "width": 0.5
             },
             "pattern": {
              "fillmode": "overlay",
              "size": 10,
              "solidity": 0.2
             }
            },
            "type": "barpolar"
           }
          ],
          "carpet": [
           {
            "aaxis": {
             "endlinecolor": "#2a3f5f",
             "gridcolor": "white",
             "linecolor": "white",
             "minorgridcolor": "white",
             "startlinecolor": "#2a3f5f"
            },
            "baxis": {
             "endlinecolor": "#2a3f5f",
             "gridcolor": "white",
             "linecolor": "white",
             "minorgridcolor": "white",
             "startlinecolor": "#2a3f5f"
            },
            "type": "carpet"
           }
          ],
          "choropleth": [
           {
            "colorbar": {
             "outlinewidth": 0,
             "ticks": ""
            },
            "type": "choropleth"
           }
          ],
          "contour": [
           {
            "colorbar": {
             "outlinewidth": 0,
             "ticks": ""
            },
            "colorscale": [
             [
              0,
              "#0d0887"
             ],
             [
              0.1111111111111111,
              "#46039f"
             ],
             [
              0.2222222222222222,
              "#7201a8"
             ],
             [
              0.3333333333333333,
              "#9c179e"
             ],
             [
              0.4444444444444444,
              "#bd3786"
             ],
             [
              0.5555555555555556,
              "#d8576b"
             ],
             [
              0.6666666666666666,
              "#ed7953"
             ],
             [
              0.7777777777777778,
              "#fb9f3a"
             ],
             [
              0.8888888888888888,
              "#fdca26"
             ],
             [
              1,
              "#f0f921"
             ]
            ],
            "type": "contour"
           }
          ],
          "contourcarpet": [
           {
            "colorbar": {
             "outlinewidth": 0,
             "ticks": ""
            },
            "type": "contourcarpet"
           }
          ],
          "heatmap": [
           {
            "colorbar": {
             "outlinewidth": 0,
             "ticks": ""
            },
            "colorscale": [
             [
              0,
              "#0d0887"
             ],
             [
              0.1111111111111111,
              "#46039f"
             ],
             [
              0.2222222222222222,
              "#7201a8"
             ],
             [
              0.3333333333333333,
              "#9c179e"
             ],
             [
              0.4444444444444444,
              "#bd3786"
             ],
             [
              0.5555555555555556,
              "#d8576b"
             ],
             [
              0.6666666666666666,
              "#ed7953"
             ],
             [
              0.7777777777777778,
              "#fb9f3a"
             ],
             [
              0.8888888888888888,
              "#fdca26"
             ],
             [
              1,
              "#f0f921"
             ]
            ],
            "type": "heatmap"
           }
          ],
          "heatmapgl": [
           {
            "colorbar": {
             "outlinewidth": 0,
             "ticks": ""
            },
            "colorscale": [
             [
              0,
              "#0d0887"
             ],
             [
              0.1111111111111111,
              "#46039f"
             ],
             [
              0.2222222222222222,
              "#7201a8"
             ],
             [
              0.3333333333333333,
              "#9c179e"
             ],
             [
              0.4444444444444444,
              "#bd3786"
             ],
             [
              0.5555555555555556,
              "#d8576b"
             ],
             [
              0.6666666666666666,
              "#ed7953"
             ],
             [
              0.7777777777777778,
              "#fb9f3a"
             ],
             [
              0.8888888888888888,
              "#fdca26"
             ],
             [
              1,
              "#f0f921"
             ]
            ],
            "type": "heatmapgl"
           }
          ],
          "histogram": [
           {
            "marker": {
             "pattern": {
              "fillmode": "overlay",
              "size": 10,
              "solidity": 0.2
             }
            },
            "type": "histogram"
           }
          ],
          "histogram2d": [
           {
            "colorbar": {
             "outlinewidth": 0,
             "ticks": ""
            },
            "colorscale": [
             [
              0,
              "#0d0887"
             ],
             [
              0.1111111111111111,
              "#46039f"
             ],
             [
              0.2222222222222222,
              "#7201a8"
             ],
             [
              0.3333333333333333,
              "#9c179e"
             ],
             [
              0.4444444444444444,
              "#bd3786"
             ],
             [
              0.5555555555555556,
              "#d8576b"
             ],
             [
              0.6666666666666666,
              "#ed7953"
             ],
             [
              0.7777777777777778,
              "#fb9f3a"
             ],
             [
              0.8888888888888888,
              "#fdca26"
             ],
             [
              1,
              "#f0f921"
             ]
            ],
            "type": "histogram2d"
           }
          ],
          "histogram2dcontour": [
           {
            "colorbar": {
             "outlinewidth": 0,
             "ticks": ""
            },
            "colorscale": [
             [
              0,
              "#0d0887"
             ],
             [
              0.1111111111111111,
              "#46039f"
             ],
             [
              0.2222222222222222,
              "#7201a8"
             ],
             [
              0.3333333333333333,
              "#9c179e"
             ],
             [
              0.4444444444444444,
              "#bd3786"
             ],
             [
              0.5555555555555556,
              "#d8576b"
             ],
             [
              0.6666666666666666,
              "#ed7953"
             ],
             [
              0.7777777777777778,
              "#fb9f3a"
             ],
             [
              0.8888888888888888,
              "#fdca26"
             ],
             [
              1,
              "#f0f921"
             ]
            ],
            "type": "histogram2dcontour"
           }
          ],
          "mesh3d": [
           {
            "colorbar": {
             "outlinewidth": 0,
             "ticks": ""
            },
            "type": "mesh3d"
           }
          ],
          "parcoords": [
           {
            "line": {
             "colorbar": {
              "outlinewidth": 0,
              "ticks": ""
             }
            },
            "type": "parcoords"
           }
          ],
          "pie": [
           {
            "automargin": true,
            "type": "pie"
           }
          ],
          "scatter": [
           {
            "fillpattern": {
             "fillmode": "overlay",
             "size": 10,
             "solidity": 0.2
            },
            "type": "scatter"
           }
          ],
          "scatter3d": [
           {
            "line": {
             "colorbar": {
              "outlinewidth": 0,
              "ticks": ""
             }
            },
            "marker": {
             "colorbar": {
              "outlinewidth": 0,
              "ticks": ""
             }
            },
            "type": "scatter3d"
           }
          ],
          "scattercarpet": [
           {
            "marker": {
             "colorbar": {
              "outlinewidth": 0,
              "ticks": ""
             }
            },
            "type": "scattercarpet"
           }
          ],
          "scattergeo": [
           {
            "marker": {
             "colorbar": {
              "outlinewidth": 0,
              "ticks": ""
             }
            },
            "type": "scattergeo"
           }
          ],
          "scattergl": [
           {
            "marker": {
             "colorbar": {
              "outlinewidth": 0,
              "ticks": ""
             }
            },
            "type": "scattergl"
           }
          ],
          "scattermapbox": [
           {
            "marker": {
             "colorbar": {
              "outlinewidth": 0,
              "ticks": ""
             }
            },
            "type": "scattermapbox"
           }
          ],
          "scatterpolar": [
           {
            "marker": {
             "colorbar": {
              "outlinewidth": 0,
              "ticks": ""
             }
            },
            "type": "scatterpolar"
           }
          ],
          "scatterpolargl": [
           {
            "marker": {
             "colorbar": {
              "outlinewidth": 0,
              "ticks": ""
             }
            },
            "type": "scatterpolargl"
           }
          ],
          "scatterternary": [
           {
            "marker": {
             "colorbar": {
              "outlinewidth": 0,
              "ticks": ""
             }
            },
            "type": "scatterternary"
           }
          ],
          "surface": [
           {
            "colorbar": {
             "outlinewidth": 0,
             "ticks": ""
            },
            "colorscale": [
             [
              0,
              "#0d0887"
             ],
             [
              0.1111111111111111,
              "#46039f"
             ],
             [
              0.2222222222222222,
              "#7201a8"
             ],
             [
              0.3333333333333333,
              "#9c179e"
             ],
             [
              0.4444444444444444,
              "#bd3786"
             ],
             [
              0.5555555555555556,
              "#d8576b"
             ],
             [
              0.6666666666666666,
              "#ed7953"
             ],
             [
              0.7777777777777778,
              "#fb9f3a"
             ],
             [
              0.8888888888888888,
              "#fdca26"
             ],
             [
              1,
              "#f0f921"
             ]
            ],
            "type": "surface"
           }
          ],
          "table": [
           {
            "cells": {
             "fill": {
              "color": "#EBF0F8"
             },
             "line": {
              "color": "white"
             }
            },
            "header": {
             "fill": {
              "color": "#C8D4E3"
             },
             "line": {
              "color": "white"
             }
            },
            "type": "table"
           }
          ]
         },
         "layout": {
          "annotationdefaults": {
           "arrowcolor": "#2a3f5f",
           "arrowhead": 0,
           "arrowwidth": 1
          },
          "autotypenumbers": "strict",
          "coloraxis": {
           "colorbar": {
            "outlinewidth": 0,
            "ticks": ""
           }
          },
          "colorscale": {
           "diverging": [
            [
             0,
             "#8e0152"
            ],
            [
             0.1,
             "#c51b7d"
            ],
            [
             0.2,
             "#de77ae"
            ],
            [
             0.3,
             "#f1b6da"
            ],
            [
             0.4,
             "#fde0ef"
            ],
            [
             0.5,
             "#f7f7f7"
            ],
            [
             0.6,
             "#e6f5d0"
            ],
            [
             0.7,
             "#b8e186"
            ],
            [
             0.8,
             "#7fbc41"
            ],
            [
             0.9,
             "#4d9221"
            ],
            [
             1,
             "#276419"
            ]
           ],
           "sequential": [
            [
             0,
             "#0d0887"
            ],
            [
             0.1111111111111111,
             "#46039f"
            ],
            [
             0.2222222222222222,
             "#7201a8"
            ],
            [
             0.3333333333333333,
             "#9c179e"
            ],
            [
             0.4444444444444444,
             "#bd3786"
            ],
            [
             0.5555555555555556,
             "#d8576b"
            ],
            [
             0.6666666666666666,
             "#ed7953"
            ],
            [
             0.7777777777777778,
             "#fb9f3a"
            ],
            [
             0.8888888888888888,
             "#fdca26"
            ],
            [
             1,
             "#f0f921"
            ]
           ],
           "sequentialminus": [
            [
             0,
             "#0d0887"
            ],
            [
             0.1111111111111111,
             "#46039f"
            ],
            [
             0.2222222222222222,
             "#7201a8"
            ],
            [
             0.3333333333333333,
             "#9c179e"
            ],
            [
             0.4444444444444444,
             "#bd3786"
            ],
            [
             0.5555555555555556,
             "#d8576b"
            ],
            [
             0.6666666666666666,
             "#ed7953"
            ],
            [
             0.7777777777777778,
             "#fb9f3a"
            ],
            [
             0.8888888888888888,
             "#fdca26"
            ],
            [
             1,
             "#f0f921"
            ]
           ]
          },
          "colorway": [
           "#636efa",
           "#EF553B",
           "#00cc96",
           "#ab63fa",
           "#FFA15A",
           "#19d3f3",
           "#FF6692",
           "#B6E880",
           "#FF97FF",
           "#FECB52"
          ],
          "font": {
           "color": "#2a3f5f"
          },
          "geo": {
           "bgcolor": "white",
           "lakecolor": "white",
           "landcolor": "#E5ECF6",
           "showlakes": true,
           "showland": true,
           "subunitcolor": "white"
          },
          "hoverlabel": {
           "align": "left"
          },
          "hovermode": "closest",
          "mapbox": {
           "style": "light"
          },
          "paper_bgcolor": "white",
          "plot_bgcolor": "#E5ECF6",
          "polar": {
           "angularaxis": {
            "gridcolor": "white",
            "linecolor": "white",
            "ticks": ""
           },
           "bgcolor": "#E5ECF6",
           "radialaxis": {
            "gridcolor": "white",
            "linecolor": "white",
            "ticks": ""
           }
          },
          "scene": {
           "xaxis": {
            "backgroundcolor": "#E5ECF6",
            "gridcolor": "white",
            "gridwidth": 2,
            "linecolor": "white",
            "showbackground": true,
            "ticks": "",
            "zerolinecolor": "white"
           },
           "yaxis": {
            "backgroundcolor": "#E5ECF6",
            "gridcolor": "white",
            "gridwidth": 2,
            "linecolor": "white",
            "showbackground": true,
            "ticks": "",
            "zerolinecolor": "white"
           },
           "zaxis": {
            "backgroundcolor": "#E5ECF6",
            "gridcolor": "white",
            "gridwidth": 2,
            "linecolor": "white",
            "showbackground": true,
            "ticks": "",
            "zerolinecolor": "white"
           }
          },
          "shapedefaults": {
           "line": {
            "color": "#2a3f5f"
           }
          },
          "ternary": {
           "aaxis": {
            "gridcolor": "white",
            "linecolor": "white",
            "ticks": ""
           },
           "baxis": {
            "gridcolor": "white",
            "linecolor": "white",
            "ticks": ""
           },
           "bgcolor": "#E5ECF6",
           "caxis": {
            "gridcolor": "white",
            "linecolor": "white",
            "ticks": ""
           }
          },
          "title": {
           "x": 0.05
          },
          "xaxis": {
           "automargin": true,
           "gridcolor": "white",
           "linecolor": "white",
           "ticks": "",
           "title": {
            "standoff": 15
           },
           "zerolinecolor": "white",
           "zerolinewidth": 2
          },
          "yaxis": {
           "automargin": true,
           "gridcolor": "white",
           "linecolor": "white",
           "ticks": "",
           "title": {
            "standoff": 15
           },
           "zerolinecolor": "white",
           "zerolinewidth": 2
          }
         }
        },
        "xaxis": {
         "rangeslider": {
          "visible": false
         }
        }
       }
      }
     },
     "metadata": {},
     "output_type": "display_data"
    }
   ],
   "source": [
    "##Print candles from the dataset generated based on prediction\n",
    "cdl_data = pd.DataFrame(cdl)\n",
    "\n",
    "fig = go.Figure(data=[go.Candlestick(x=cdl_data.index,\n",
    "                open=cdl_data['open'], high=cdl_data['high'],\n",
    "                low=cdl_data['low'], close=cdl_data['close'])\n",
    "                     ])\n",
    "\n",
    "fig.add_trace(\n",
    "    go.Scatter(\n",
    "        x=cdl_data.index,\n",
    "        y=cdl_data['high'],\n",
    "        mode= \"text\",\n",
    "        \n",
    "        text = cdl_data['class'],\n",
    "        textposition = 'top center',\n",
    "        textfont = {'size':8}))\n",
    "\n",
    "fig.update_layout(xaxis_rangeslider_visible=False)\n",
    "fig.show()"
   ]
  },
  {
   "cell_type": "code",
   "execution_count": 25,
   "metadata": {},
   "outputs": [
    {
     "data": {
      "application/vnd.plotly.v1+json": {
       "config": {
        "plotlyServerURL": "https://plot.ly"
       },
       "data": [
        {
         "close": [
          12178,
          12176,
          12176.5,
          12175,
          12177.25,
          12177.75,
          12176.25,
          12178.25,
          12178.75,
          12177.5,
          12176.75,
          12176.5,
          12175.5,
          12175,
          12174.75,
          12175.5,
          12174.75,
          12172.5,
          12170,
          12171,
          12169,
          12169.25,
          12169.75,
          12168.25,
          12168,
          12168.75,
          12168.75,
          12168,
          12171.25,
          12171,
          12170.75,
          12171,
          12172.5,
          12173.25,
          12172.25,
          12171.25,
          12170.25,
          12169.75,
          12169.75,
          12168.5,
          12172.75,
          12173,
          12170.75,
          12171,
          12170,
          12173.25,
          12173.25,
          12175,
          12174.25,
          12174.5
         ],
         "high": [
          12180.5,
          12177,
          12177.5,
          12176,
          12177.25,
          12178.75,
          12178.5,
          12178.25,
          12178.75,
          12178,
          12176.75,
          12176.5,
          12176,
          12175.25,
          12175,
          12175.5,
          12174.75,
          12174,
          12172.5,
          12171,
          12170.5,
          12169.25,
          12170.75,
          12170.25,
          12168,
          12169.5,
          12168.75,
          12169.25,
          12171.25,
          12171,
          12171.75,
          12171,
          12174.75,
          12174,
          12173,
          12173,
          12171,
          12172.25,
          12169.75,
          12168.75,
          12172.75,
          12173,
          12172.5,
          12171,
          12170,
          12173.25,
          12173.25,
          12175.5,
          12175.5,
          12174.5
         ],
         "low": [
          12176.25,
          12176,
          12176.5,
          12175,
          12176.25,
          12177.75,
          12176.25,
          12178,
          12177.75,
          12177.25,
          12176.5,
          12176.5,
          12175.5,
          12175,
          12174.75,
          12174.25,
          12173.75,
          12172,
          12170,
          12168.25,
          12169,
          12168.75,
          12169.75,
          12168,
          12167.75,
          12168.5,
          12167.5,
          12168,
          12168,
          12169.75,
          12170.25,
          12168.75,
          12171,
          12172.5,
          12172.25,
          12171.25,
          12170.25,
          12169.75,
          12169.5,
          12168.5,
          12169.25,
          12172,
          12169.5,
          12170,
          12170,
          12171.25,
          12173.25,
          12174,
          12174.25,
          12174.5
         ],
         "open": [
          12176.25,
          12177,
          12176.75,
          12176,
          12176.25,
          12178.5,
          12177.5,
          12178,
          12178.5,
          12178,
          12176.5,
          12176.5,
          12176,
          12175.25,
          12175,
          12174.75,
          12173.75,
          12174,
          12172.5,
          12168.75,
          12170.5,
          12169,
          12170,
          12169.25,
          12167.75,
          12169.25,
          12167.75,
          12168.75,
          12168,
          12170.75,
          12171.5,
          12169.75,
          12171,
          12173,
          12173,
          12173,
          12171,
          12171.75,
          12169.5,
          12168.5,
          12169.25,
          12172.5,
          12172.5,
          12170.5,
          12170,
          12172.25,
          12173.25,
          12174,
          12175.5,
          12174.5
         ],
         "type": "candlestick",
         "x": [
          "2023-03-13T04:26:00+00:00",
          "2023-03-13T04:26:15+00:00",
          "2023-03-13T04:26:30+00:00",
          "2023-03-13T04:26:45+00:00",
          "2023-03-13T04:27:00+00:00",
          "2023-03-13T04:27:15+00:00",
          "2023-03-13T04:27:30+00:00",
          "2023-03-13T04:27:45+00:00",
          "2023-03-13T04:28:00+00:00",
          "2023-03-13T04:28:15+00:00",
          "2023-03-13T04:28:30+00:00",
          "2023-03-13T04:28:45+00:00",
          "2023-03-13T04:29:00+00:00",
          "2023-03-13T04:29:15+00:00",
          "2023-03-13T04:29:30+00:00",
          "2023-03-13T04:29:45+00:00",
          "2023-03-13T04:30:00+00:00",
          "2023-03-13T04:30:30+00:00",
          "2023-03-13T04:30:45+00:00",
          "2023-03-13T04:31:00+00:00",
          "2023-03-13T04:31:15+00:00",
          "2023-03-13T04:31:30+00:00",
          "2023-03-13T04:31:45+00:00",
          "2023-03-13T04:32:00+00:00",
          "2023-03-13T04:32:15+00:00",
          "2023-03-13T04:32:30+00:00",
          "2023-03-13T04:32:45+00:00",
          "2023-03-13T04:33:00+00:00",
          "2023-03-13T04:33:15+00:00",
          "2023-03-13T04:33:30+00:00",
          "2023-03-13T04:33:45+00:00",
          "2023-03-13T04:34:00+00:00",
          "2023-03-13T04:34:15+00:00",
          "2023-03-13T04:34:30+00:00",
          "2023-03-13T04:34:45+00:00",
          "2023-03-13T04:35:00+00:00",
          "2023-03-13T04:35:15+00:00",
          "2023-03-13T04:35:30+00:00",
          "2023-03-13T04:35:45+00:00",
          "2023-03-13T04:36:00+00:00",
          "2023-03-13T04:36:15+00:00",
          "2023-03-13T04:36:30+00:00",
          "2023-03-13T04:36:45+00:00",
          "2023-03-13T04:37:00+00:00",
          "2023-03-13T04:37:15+00:00",
          "2023-03-13T04:38:00+00:00",
          "2023-03-13T04:38:15+00:00",
          "2023-03-13T04:38:30+00:00",
          "2023-03-13T04:38:45+00:00",
          "2023-03-13T04:39:00+00:00"
         ]
        },
        {
         "mode": "text",
         "text": [
          17,
          10,
          5,
          10,
          19,
          8,
          8,
          19,
          15,
          9,
          19,
          0,
          10,
          10,
          10,
          18,
          19,
          9,
          10,
          21,
          10,
          18,
          5,
          7,
          19,
          7,
          21,
          8,
          19,
          15,
          7,
          18,
          17,
          13,
          10,
          10,
          10,
          11,
          19,
          2,
          19,
          18,
          9,
          18,
          0,
          18,
          0,
          17,
          10,
          0
         ],
         "textfont": {
          "size": 8
         },
         "textposition": "top center",
         "type": "scatter",
         "x": [
          "2023-03-13T04:26:00+00:00",
          "2023-03-13T04:26:15+00:00",
          "2023-03-13T04:26:30+00:00",
          "2023-03-13T04:26:45+00:00",
          "2023-03-13T04:27:00+00:00",
          "2023-03-13T04:27:15+00:00",
          "2023-03-13T04:27:30+00:00",
          "2023-03-13T04:27:45+00:00",
          "2023-03-13T04:28:00+00:00",
          "2023-03-13T04:28:15+00:00",
          "2023-03-13T04:28:30+00:00",
          "2023-03-13T04:28:45+00:00",
          "2023-03-13T04:29:00+00:00",
          "2023-03-13T04:29:15+00:00",
          "2023-03-13T04:29:30+00:00",
          "2023-03-13T04:29:45+00:00",
          "2023-03-13T04:30:00+00:00",
          "2023-03-13T04:30:30+00:00",
          "2023-03-13T04:30:45+00:00",
          "2023-03-13T04:31:00+00:00",
          "2023-03-13T04:31:15+00:00",
          "2023-03-13T04:31:30+00:00",
          "2023-03-13T04:31:45+00:00",
          "2023-03-13T04:32:00+00:00",
          "2023-03-13T04:32:15+00:00",
          "2023-03-13T04:32:30+00:00",
          "2023-03-13T04:32:45+00:00",
          "2023-03-13T04:33:00+00:00",
          "2023-03-13T04:33:15+00:00",
          "2023-03-13T04:33:30+00:00",
          "2023-03-13T04:33:45+00:00",
          "2023-03-13T04:34:00+00:00",
          "2023-03-13T04:34:15+00:00",
          "2023-03-13T04:34:30+00:00",
          "2023-03-13T04:34:45+00:00",
          "2023-03-13T04:35:00+00:00",
          "2023-03-13T04:35:15+00:00",
          "2023-03-13T04:35:30+00:00",
          "2023-03-13T04:35:45+00:00",
          "2023-03-13T04:36:00+00:00",
          "2023-03-13T04:36:15+00:00",
          "2023-03-13T04:36:30+00:00",
          "2023-03-13T04:36:45+00:00",
          "2023-03-13T04:37:00+00:00",
          "2023-03-13T04:37:15+00:00",
          "2023-03-13T04:38:00+00:00",
          "2023-03-13T04:38:15+00:00",
          "2023-03-13T04:38:30+00:00",
          "2023-03-13T04:38:45+00:00",
          "2023-03-13T04:39:00+00:00"
         ],
         "y": [
          12180.5,
          12177,
          12177.5,
          12176,
          12177.25,
          12178.75,
          12178.5,
          12178.25,
          12178.75,
          12178,
          12176.75,
          12176.5,
          12176,
          12175.25,
          12175,
          12175.5,
          12174.75,
          12174,
          12172.5,
          12171,
          12170.5,
          12169.25,
          12170.75,
          12170.25,
          12168,
          12169.5,
          12168.75,
          12169.25,
          12171.25,
          12171,
          12171.75,
          12171,
          12174.75,
          12174,
          12173,
          12173,
          12171,
          12172.25,
          12169.75,
          12168.75,
          12172.75,
          12173,
          12172.5,
          12171,
          12170,
          12173.25,
          12173.25,
          12175.5,
          12175.5,
          12174.5
         ]
        }
       ],
       "layout": {
        "template": {
         "data": {
          "bar": [
           {
            "error_x": {
             "color": "#2a3f5f"
            },
            "error_y": {
             "color": "#2a3f5f"
            },
            "marker": {
             "line": {
              "color": "#E5ECF6",
              "width": 0.5
             },
             "pattern": {
              "fillmode": "overlay",
              "size": 10,
              "solidity": 0.2
             }
            },
            "type": "bar"
           }
          ],
          "barpolar": [
           {
            "marker": {
             "line": {
              "color": "#E5ECF6",
              "width": 0.5
             },
             "pattern": {
              "fillmode": "overlay",
              "size": 10,
              "solidity": 0.2
             }
            },
            "type": "barpolar"
           }
          ],
          "carpet": [
           {
            "aaxis": {
             "endlinecolor": "#2a3f5f",
             "gridcolor": "white",
             "linecolor": "white",
             "minorgridcolor": "white",
             "startlinecolor": "#2a3f5f"
            },
            "baxis": {
             "endlinecolor": "#2a3f5f",
             "gridcolor": "white",
             "linecolor": "white",
             "minorgridcolor": "white",
             "startlinecolor": "#2a3f5f"
            },
            "type": "carpet"
           }
          ],
          "choropleth": [
           {
            "colorbar": {
             "outlinewidth": 0,
             "ticks": ""
            },
            "type": "choropleth"
           }
          ],
          "contour": [
           {
            "colorbar": {
             "outlinewidth": 0,
             "ticks": ""
            },
            "colorscale": [
             [
              0,
              "#0d0887"
             ],
             [
              0.1111111111111111,
              "#46039f"
             ],
             [
              0.2222222222222222,
              "#7201a8"
             ],
             [
              0.3333333333333333,
              "#9c179e"
             ],
             [
              0.4444444444444444,
              "#bd3786"
             ],
             [
              0.5555555555555556,
              "#d8576b"
             ],
             [
              0.6666666666666666,
              "#ed7953"
             ],
             [
              0.7777777777777778,
              "#fb9f3a"
             ],
             [
              0.8888888888888888,
              "#fdca26"
             ],
             [
              1,
              "#f0f921"
             ]
            ],
            "type": "contour"
           }
          ],
          "contourcarpet": [
           {
            "colorbar": {
             "outlinewidth": 0,
             "ticks": ""
            },
            "type": "contourcarpet"
           }
          ],
          "heatmap": [
           {
            "colorbar": {
             "outlinewidth": 0,
             "ticks": ""
            },
            "colorscale": [
             [
              0,
              "#0d0887"
             ],
             [
              0.1111111111111111,
              "#46039f"
             ],
             [
              0.2222222222222222,
              "#7201a8"
             ],
             [
              0.3333333333333333,
              "#9c179e"
             ],
             [
              0.4444444444444444,
              "#bd3786"
             ],
             [
              0.5555555555555556,
              "#d8576b"
             ],
             [
              0.6666666666666666,
              "#ed7953"
             ],
             [
              0.7777777777777778,
              "#fb9f3a"
             ],
             [
              0.8888888888888888,
              "#fdca26"
             ],
             [
              1,
              "#f0f921"
             ]
            ],
            "type": "heatmap"
           }
          ],
          "heatmapgl": [
           {
            "colorbar": {
             "outlinewidth": 0,
             "ticks": ""
            },
            "colorscale": [
             [
              0,
              "#0d0887"
             ],
             [
              0.1111111111111111,
              "#46039f"
             ],
             [
              0.2222222222222222,
              "#7201a8"
             ],
             [
              0.3333333333333333,
              "#9c179e"
             ],
             [
              0.4444444444444444,
              "#bd3786"
             ],
             [
              0.5555555555555556,
              "#d8576b"
             ],
             [
              0.6666666666666666,
              "#ed7953"
             ],
             [
              0.7777777777777778,
              "#fb9f3a"
             ],
             [
              0.8888888888888888,
              "#fdca26"
             ],
             [
              1,
              "#f0f921"
             ]
            ],
            "type": "heatmapgl"
           }
          ],
          "histogram": [
           {
            "marker": {
             "pattern": {
              "fillmode": "overlay",
              "size": 10,
              "solidity": 0.2
             }
            },
            "type": "histogram"
           }
          ],
          "histogram2d": [
           {
            "colorbar": {
             "outlinewidth": 0,
             "ticks": ""
            },
            "colorscale": [
             [
              0,
              "#0d0887"
             ],
             [
              0.1111111111111111,
              "#46039f"
             ],
             [
              0.2222222222222222,
              "#7201a8"
             ],
             [
              0.3333333333333333,
              "#9c179e"
             ],
             [
              0.4444444444444444,
              "#bd3786"
             ],
             [
              0.5555555555555556,
              "#d8576b"
             ],
             [
              0.6666666666666666,
              "#ed7953"
             ],
             [
              0.7777777777777778,
              "#fb9f3a"
             ],
             [
              0.8888888888888888,
              "#fdca26"
             ],
             [
              1,
              "#f0f921"
             ]
            ],
            "type": "histogram2d"
           }
          ],
          "histogram2dcontour": [
           {
            "colorbar": {
             "outlinewidth": 0,
             "ticks": ""
            },
            "colorscale": [
             [
              0,
              "#0d0887"
             ],
             [
              0.1111111111111111,
              "#46039f"
             ],
             [
              0.2222222222222222,
              "#7201a8"
             ],
             [
              0.3333333333333333,
              "#9c179e"
             ],
             [
              0.4444444444444444,
              "#bd3786"
             ],
             [
              0.5555555555555556,
              "#d8576b"
             ],
             [
              0.6666666666666666,
              "#ed7953"
             ],
             [
              0.7777777777777778,
              "#fb9f3a"
             ],
             [
              0.8888888888888888,
              "#fdca26"
             ],
             [
              1,
              "#f0f921"
             ]
            ],
            "type": "histogram2dcontour"
           }
          ],
          "mesh3d": [
           {
            "colorbar": {
             "outlinewidth": 0,
             "ticks": ""
            },
            "type": "mesh3d"
           }
          ],
          "parcoords": [
           {
            "line": {
             "colorbar": {
              "outlinewidth": 0,
              "ticks": ""
             }
            },
            "type": "parcoords"
           }
          ],
          "pie": [
           {
            "automargin": true,
            "type": "pie"
           }
          ],
          "scatter": [
           {
            "fillpattern": {
             "fillmode": "overlay",
             "size": 10,
             "solidity": 0.2
            },
            "type": "scatter"
           }
          ],
          "scatter3d": [
           {
            "line": {
             "colorbar": {
              "outlinewidth": 0,
              "ticks": ""
             }
            },
            "marker": {
             "colorbar": {
              "outlinewidth": 0,
              "ticks": ""
             }
            },
            "type": "scatter3d"
           }
          ],
          "scattercarpet": [
           {
            "marker": {
             "colorbar": {
              "outlinewidth": 0,
              "ticks": ""
             }
            },
            "type": "scattercarpet"
           }
          ],
          "scattergeo": [
           {
            "marker": {
             "colorbar": {
              "outlinewidth": 0,
              "ticks": ""
             }
            },
            "type": "scattergeo"
           }
          ],
          "scattergl": [
           {
            "marker": {
             "colorbar": {
              "outlinewidth": 0,
              "ticks": ""
             }
            },
            "type": "scattergl"
           }
          ],
          "scattermapbox": [
           {
            "marker": {
             "colorbar": {
              "outlinewidth": 0,
              "ticks": ""
             }
            },
            "type": "scattermapbox"
           }
          ],
          "scatterpolar": [
           {
            "marker": {
             "colorbar": {
              "outlinewidth": 0,
              "ticks": ""
             }
            },
            "type": "scatterpolar"
           }
          ],
          "scatterpolargl": [
           {
            "marker": {
             "colorbar": {
              "outlinewidth": 0,
              "ticks": ""
             }
            },
            "type": "scatterpolargl"
           }
          ],
          "scatterternary": [
           {
            "marker": {
             "colorbar": {
              "outlinewidth": 0,
              "ticks": ""
             }
            },
            "type": "scatterternary"
           }
          ],
          "surface": [
           {
            "colorbar": {
             "outlinewidth": 0,
             "ticks": ""
            },
            "colorscale": [
             [
              0,
              "#0d0887"
             ],
             [
              0.1111111111111111,
              "#46039f"
             ],
             [
              0.2222222222222222,
              "#7201a8"
             ],
             [
              0.3333333333333333,
              "#9c179e"
             ],
             [
              0.4444444444444444,
              "#bd3786"
             ],
             [
              0.5555555555555556,
              "#d8576b"
             ],
             [
              0.6666666666666666,
              "#ed7953"
             ],
             [
              0.7777777777777778,
              "#fb9f3a"
             ],
             [
              0.8888888888888888,
              "#fdca26"
             ],
             [
              1,
              "#f0f921"
             ]
            ],
            "type": "surface"
           }
          ],
          "table": [
           {
            "cells": {
             "fill": {
              "color": "#EBF0F8"
             },
             "line": {
              "color": "white"
             }
            },
            "header": {
             "fill": {
              "color": "#C8D4E3"
             },
             "line": {
              "color": "white"
             }
            },
            "type": "table"
           }
          ]
         },
         "layout": {
          "annotationdefaults": {
           "arrowcolor": "#2a3f5f",
           "arrowhead": 0,
           "arrowwidth": 1
          },
          "autotypenumbers": "strict",
          "coloraxis": {
           "colorbar": {
            "outlinewidth": 0,
            "ticks": ""
           }
          },
          "colorscale": {
           "diverging": [
            [
             0,
             "#8e0152"
            ],
            [
             0.1,
             "#c51b7d"
            ],
            [
             0.2,
             "#de77ae"
            ],
            [
             0.3,
             "#f1b6da"
            ],
            [
             0.4,
             "#fde0ef"
            ],
            [
             0.5,
             "#f7f7f7"
            ],
            [
             0.6,
             "#e6f5d0"
            ],
            [
             0.7,
             "#b8e186"
            ],
            [
             0.8,
             "#7fbc41"
            ],
            [
             0.9,
             "#4d9221"
            ],
            [
             1,
             "#276419"
            ]
           ],
           "sequential": [
            [
             0,
             "#0d0887"
            ],
            [
             0.1111111111111111,
             "#46039f"
            ],
            [
             0.2222222222222222,
             "#7201a8"
            ],
            [
             0.3333333333333333,
             "#9c179e"
            ],
            [
             0.4444444444444444,
             "#bd3786"
            ],
            [
             0.5555555555555556,
             "#d8576b"
            ],
            [
             0.6666666666666666,
             "#ed7953"
            ],
            [
             0.7777777777777778,
             "#fb9f3a"
            ],
            [
             0.8888888888888888,
             "#fdca26"
            ],
            [
             1,
             "#f0f921"
            ]
           ],
           "sequentialminus": [
            [
             0,
             "#0d0887"
            ],
            [
             0.1111111111111111,
             "#46039f"
            ],
            [
             0.2222222222222222,
             "#7201a8"
            ],
            [
             0.3333333333333333,
             "#9c179e"
            ],
            [
             0.4444444444444444,
             "#bd3786"
            ],
            [
             0.5555555555555556,
             "#d8576b"
            ],
            [
             0.6666666666666666,
             "#ed7953"
            ],
            [
             0.7777777777777778,
             "#fb9f3a"
            ],
            [
             0.8888888888888888,
             "#fdca26"
            ],
            [
             1,
             "#f0f921"
            ]
           ]
          },
          "colorway": [
           "#636efa",
           "#EF553B",
           "#00cc96",
           "#ab63fa",
           "#FFA15A",
           "#19d3f3",
           "#FF6692",
           "#B6E880",
           "#FF97FF",
           "#FECB52"
          ],
          "font": {
           "color": "#2a3f5f"
          },
          "geo": {
           "bgcolor": "white",
           "lakecolor": "white",
           "landcolor": "#E5ECF6",
           "showlakes": true,
           "showland": true,
           "subunitcolor": "white"
          },
          "hoverlabel": {
           "align": "left"
          },
          "hovermode": "closest",
          "mapbox": {
           "style": "light"
          },
          "paper_bgcolor": "white",
          "plot_bgcolor": "#E5ECF6",
          "polar": {
           "angularaxis": {
            "gridcolor": "white",
            "linecolor": "white",
            "ticks": ""
           },
           "bgcolor": "#E5ECF6",
           "radialaxis": {
            "gridcolor": "white",
            "linecolor": "white",
            "ticks": ""
           }
          },
          "scene": {
           "xaxis": {
            "backgroundcolor": "#E5ECF6",
            "gridcolor": "white",
            "gridwidth": 2,
            "linecolor": "white",
            "showbackground": true,
            "ticks": "",
            "zerolinecolor": "white"
           },
           "yaxis": {
            "backgroundcolor": "#E5ECF6",
            "gridcolor": "white",
            "gridwidth": 2,
            "linecolor": "white",
            "showbackground": true,
            "ticks": "",
            "zerolinecolor": "white"
           },
           "zaxis": {
            "backgroundcolor": "#E5ECF6",
            "gridcolor": "white",
            "gridwidth": 2,
            "linecolor": "white",
            "showbackground": true,
            "ticks": "",
            "zerolinecolor": "white"
           }
          },
          "shapedefaults": {
           "line": {
            "color": "#2a3f5f"
           }
          },
          "ternary": {
           "aaxis": {
            "gridcolor": "white",
            "linecolor": "white",
            "ticks": ""
           },
           "baxis": {
            "gridcolor": "white",
            "linecolor": "white",
            "ticks": ""
           },
           "bgcolor": "#E5ECF6",
           "caxis": {
            "gridcolor": "white",
            "linecolor": "white",
            "ticks": ""
           }
          },
          "title": {
           "x": 0.05
          },
          "xaxis": {
           "automargin": true,
           "gridcolor": "white",
           "linecolor": "white",
           "ticks": "",
           "title": {
            "standoff": 15
           },
           "zerolinecolor": "white",
           "zerolinewidth": 2
          },
          "yaxis": {
           "automargin": true,
           "gridcolor": "white",
           "linecolor": "white",
           "ticks": "",
           "title": {
            "standoff": 15
           },
           "zerolinecolor": "white",
           "zerolinewidth": 2
          }
         }
        },
        "xaxis": {
         "rangeslider": {
          "visible": false
         }
        }
       }
      }
     },
     "metadata": {},
     "output_type": "display_data"
    }
   ],
   "source": [
    "#Print some number of candles from the real dataset with class marks\n",
    "\n",
    "cdl_data = df1.iloc[100:150]\n",
    "\n",
    "fig = go.Figure(data=[go.Candlestick(x=cdl_data.index,\n",
    "                open=cdl_data['open'], high=cdl_data['high'],\n",
    "                low=cdl_data['low'], close=cdl_data['close'])\n",
    "                     ])\n",
    "\n",
    "fig.add_trace(\n",
    "    go.Scatter(\n",
    "        x=cdl_data.index,\n",
    "        y=cdl_data['high'],\n",
    "        mode= \"text\",\n",
    "        \n",
    "        text = cdl_data['class'],\n",
    "        textposition = 'top center',\n",
    "        textfont = {'size':8}))\n",
    "\n",
    "fig.update_layout(xaxis_rangeslider_visible=False)\n",
    "fig.show()"
   ]
  }
 ],
 "metadata": {
  "kernelspec": {
   "display_name": "Python 3",
   "language": "python",
   "name": "python3"
  },
  "language_info": {
   "codemirror_mode": {
    "name": "ipython",
    "version": 3
   },
   "file_extension": ".py",
   "mimetype": "text/x-python",
   "name": "python",
   "nbconvert_exporter": "python",
   "pygments_lexer": "ipython3",
   "version": "3.11.4"
  },
  "orig_nbformat": 4
 },
 "nbformat": 4,
 "nbformat_minor": 2
}
