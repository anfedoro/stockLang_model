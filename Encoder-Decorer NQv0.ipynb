{
 "cells": [
  {
   "cell_type": "markdown",
   "metadata": {},
   "source": [
    "##### The Encoder-decoder goal is to build a candle classification dictionary for futher LLM\n",
    "It encodes and decodes <b>normalized candles</b> as there is no goal yet to reproduce price move direction/distance or even correct candle height.\n",
    "This is next step to be implemented with LLM-kind of model, where <i>candles will be considered as alphabet characters</i> and series of candles are words, sentences and chapters for price action poeme :-) "
   ]
  },
  {
   "cell_type": "code",
   "execution_count": 1,
   "metadata": {},
   "outputs": [],
   "source": [
    "import torch\n",
    "from torch import nn\n",
    "import pandas as pd\n",
    "import numpy as np\n",
    "import matplotlib.pyplot as plt\n",
    "import os.path\n",
    "\n"
   ]
  },
  {
   "cell_type": "code",
   "execution_count": 393,
   "metadata": {},
   "outputs": [
    {
     "data": {
      "text/html": [
       "<div>\n",
       "<style scoped>\n",
       "    .dataframe tbody tr th:only-of-type {\n",
       "        vertical-align: middle;\n",
       "    }\n",
       "\n",
       "    .dataframe tbody tr th {\n",
       "        vertical-align: top;\n",
       "    }\n",
       "\n",
       "    .dataframe thead th {\n",
       "        text-align: right;\n",
       "    }\n",
       "</style>\n",
       "<table border=\"1\" class=\"dataframe\">\n",
       "  <thead>\n",
       "    <tr style=\"text-align: right;\">\n",
       "      <th></th>\n",
       "      <th>open</th>\n",
       "      <th>high</th>\n",
       "      <th>low</th>\n",
       "      <th>close</th>\n",
       "    </tr>\n",
       "  </thead>\n",
       "  <tbody>\n",
       "    <tr>\n",
       "      <th>2023-03-13 04:00:00+00:00</th>\n",
       "      <td>12177.25</td>\n",
       "      <td>12179.00</td>\n",
       "      <td>12177.25</td>\n",
       "      <td>12179.00</td>\n",
       "    </tr>\n",
       "    <tr>\n",
       "      <th>2023-03-13 04:00:15+00:00</th>\n",
       "      <td>12179.00</td>\n",
       "      <td>12179.25</td>\n",
       "      <td>12179.00</td>\n",
       "      <td>12179.25</td>\n",
       "    </tr>\n",
       "    <tr>\n",
       "      <th>2023-03-13 04:00:30+00:00</th>\n",
       "      <td>12181.25</td>\n",
       "      <td>12181.25</td>\n",
       "      <td>12180.25</td>\n",
       "      <td>12180.75</td>\n",
       "    </tr>\n",
       "    <tr>\n",
       "      <th>2023-03-13 04:00:45+00:00</th>\n",
       "      <td>12179.50</td>\n",
       "      <td>12179.75</td>\n",
       "      <td>12179.25</td>\n",
       "      <td>12179.75</td>\n",
       "    </tr>\n",
       "    <tr>\n",
       "      <th>2023-03-13 04:01:00+00:00</th>\n",
       "      <td>12180.00</td>\n",
       "      <td>12181.75</td>\n",
       "      <td>12180.00</td>\n",
       "      <td>12180.50</td>\n",
       "    </tr>\n",
       "  </tbody>\n",
       "</table>\n",
       "</div>"
      ],
      "text/plain": [
       "                               open      high       low     close\n",
       "2023-03-13 04:00:00+00:00  12177.25  12179.00  12177.25  12179.00\n",
       "2023-03-13 04:00:15+00:00  12179.00  12179.25  12179.00  12179.25\n",
       "2023-03-13 04:00:30+00:00  12181.25  12181.25  12180.25  12180.75\n",
       "2023-03-13 04:00:45+00:00  12179.50  12179.75  12179.25  12179.75\n",
       "2023-03-13 04:01:00+00:00  12180.00  12181.75  12180.00  12180.50"
      ]
     },
     "metadata": {},
     "output_type": "display_data"
    },
    {
     "name": "stdout",
     "output_type": "stream",
     "text": [
      "Candle dataset shape: (354167, 4)\n"
     ]
    }
   ],
   "source": [
    "#Import NQ futures candles dataset\n",
    "dataset = './data/nqh23_15sec.csv'\n",
    "tick_data = './data/NQ 06-23.Last.csv'\n",
    "if os.path.isfile(dataset):\n",
    "    df1 = pd.read_csv(dataset)\n",
    "\n",
    "else:\n",
    "    header = ('date','last')\n",
    "    df = pd.read_csv(tick_data, delimiter=';', usecols=[0,1], header=None, names=header)\n",
    "    df['date'] = pd.to_datetime(df['date'], format='%Y%m%d %H%M%S %f', utc = True)\n",
    "    df1 = df.resample(\"15s\", on = 'date',).ohlc()['last']\n",
    "    df1.dropna(inplace=True)\n",
    "    df1.to_csv(dataset)\n",
    "\n",
    "\n",
    "df1.set_index('date',inplace=True)\n",
    "df1.index.name = None\n",
    "display(df1.head())\n",
    "print(f\"Candle dataset shape: {df1.shape}\")\n"
   ]
  },
  {
   "cell_type": "code",
   "execution_count": 388,
   "metadata": {},
   "outputs": [],
   "source": [
    "# My own Normalisation function. the only reason I use them is I can easie reproduce them in TradingView Pinescript, \n",
    "# while e.g Pytorch nn.instanceNorm1d, gives sllughtly different result. But technically there is no differece which one to use here.\n",
    "def MinMaxNorm(x: torch.Tensor, dim = None):\n",
    "\n",
    "    r'''MinMax Normalization function, normalize values in (0,1) range.\n",
    "\n",
    "    dim - dimentions setting, \n",
    "    where None - for global normalization, 1 - for per instance normalizaton and 0 - per feature normalization'''\n",
    "\n",
    "    if dim == None:\n",
    "        return (x - x.min())/(x.max() - x.min())\n",
    "    elif dim == 1:\n",
    "        return torch.nan_to_num((x - x.min(dim).values.reshape(-1,1))/(x.max(dim).values - x.min(dim).values).reshape(-1,1),0)\n",
    "        \n",
    "    elif dim == 0:\n",
    "        return (x - x.min(dim).values)/(x.max(dim).values - x.min(dim).values)\n",
    "    \n",
    "\n",
    "def StandardNorm(x: torch.Tensor, dim = None):\n",
    "\n",
    "    r'''Standard Normalization function, normalize values in (0,1) range.\n",
    "\n",
    "    dim - dimentions setting, \n",
    "    where None - for global normalization, 1 - for per instance normalizaton and 0 - per feature normalization'''\n",
    "\n",
    "    if dim == None:\n",
    "        return (x - x.mean())/(x.std())\n",
    "    elif dim ==1:\n",
    "        return (x - x.mean(dim).reshape(-1,1))/(x.std(dim).reshape(-1,1))\n",
    "    else:\n",
    "        return (x - x.mean(dim))/(x.std(dim))\n",
    "\n"
   ]
  },
  {
   "cell_type": "code",
   "execution_count": 391,
   "metadata": {},
   "outputs": [
    {
     "data": {
      "text/plain": [
       "tensor([[-1.0000,  1.0000, -1.0000,  1.0000],\n",
       "        [-1.0000,  1.0000, -1.0000,  1.0000],\n",
       "        [ 0.9062,  0.9062, -1.5059, -0.3008]])"
      ]
     },
     "execution_count": 391,
     "metadata": {},
     "output_type": "execute_result"
    }
   ],
   "source": [
    "#Try to use torch Normalization function.\n",
    "\n",
    "norm = nn.InstanceNorm1d(4)\n",
    "\n",
    "features_enc = norm(torch.tensor(df1.iloc[:3,:4].values, dtype=torch.float))\n",
    "features_enc\n"
   ]
  },
  {
   "cell_type": "code",
   "execution_count": 394,
   "metadata": {},
   "outputs": [],
   "source": [
    "# Enc-Dec NN model definition. This is rather simple Linear with one hidden layer and Softmax activation \n",
    "# to get candles class codes (set of 10 candle features probabilities)\n",
    "# Trained Encoder half of the model can be used later on for quick canldes classification.\n",
    "# self.label is out put of the ecoder, which is indeed a candle class code\n",
    "\n",
    "class CandleClassifier(nn.Module):\n",
    "    def __init__(self):\n",
    "        super().__init__()\n",
    "       \n",
    "    #encoding layers\n",
    "        self.seq1 = nn.Sequential(\n",
    "            nn.Linear(4,64),\n",
    "            #nn.ReLU(),\n",
    "            nn.Linear(64,10),\n",
    "            nn.Softmax(1)\n",
    "        )\n",
    "    #decoding layers    \n",
    "        self.seq2 = nn.Sequential(\n",
    "            nn.Linear(10,64),\n",
    "            #nn.ReLU(),\n",
    "            nn.Linear(64,4)\n",
    "        )\n",
    "\n",
    "    def forward(self, x):\n",
    "        self.label = self.seq1(x)\n",
    "        return self.seq2(self.label)\n"
   ]
  },
  {
   "cell_type": "code",
   "execution_count": 395,
   "metadata": {},
   "outputs": [],
   "source": [
    "# in addition to Loss control< good to use a candle decode accuracyEncode-Decode accuracy calculation function\n",
    "\n",
    "def accuracy(actual:torch.Tensor, pred:torch.Tensor, precision):\n",
    "    return (torch.isclose(actual, pred, precision, precision).sum().item()/ (pred.shape[0] * pred.shape[1]))\n"
   ]
  },
  {
   "cell_type": "code",
   "execution_count": 418,
   "metadata": {},
   "outputs": [
    {
     "data": {
      "text/plain": [
       "tensor([[12177.2500, 12179.0000, 12177.2500, 12179.0000],\n",
       "        [12179.0000, 12179.2500, 12179.0000, 12179.2500],\n",
       "        [12181.2500, 12181.2500, 12180.2500, 12180.7500],\n",
       "        ...,\n",
       "        [12313.7500, 12314.0000, 12313.2500, 12313.2500],\n",
       "        [12313.2500, 12315.0000, 12313.2500, 12314.2500],\n",
       "        [12314.7500, 12315.5000, 12314.5000, 12315.5000]])"
      ]
     },
     "execution_count": 418,
     "metadata": {},
     "output_type": "execute_result"
    }
   ],
   "source": [
    "#pick 10K candles as traning sample and conver to torch tensor\n",
    "\n",
    "candles_sample = torch.tensor(df1.iloc[0:10000].values,dtype=torch.float)\n",
    "candles_sample\n"
   ]
  },
  {
   "cell_type": "code",
   "execution_count": 419,
   "metadata": {},
   "outputs": [],
   "source": [
    "#normalize traning set of candles as encode-decode sample\n",
    "\n",
    "candles_norm = MinMaxNorm(candles_sample, 1)\n",
    "\n"
   ]
  },
  {
   "cell_type": "code",
   "execution_count": 420,
   "metadata": {},
   "outputs": [
    {
     "name": "stdout",
     "output_type": "stream",
     "text": [
      "Epoch: 0 | Loss: 0.4136854112148285 | Accuracy: 0.01%\n",
      "Epoch: 10000 | Loss: 3.1182446491584415e-06 | Accuracy: 63.84%\n",
      "Epoch: 20000 | Loss: 1.6797738453533384e-06 | Accuracy: 71.83%\n",
      "Epoch: 30000 | Loss: 1.5237640127452323e-06 | Accuracy: 77.68%\n",
      "Epoch: 40000 | Loss: 1.806311047403142e-05 | Accuracy: 50.00%\n",
      "Epoch: 50000 | Loss: 1.407533886776946e-06 | Accuracy: 79.25%\n",
      "Epoch: 60000 | Loss: 8.922091865315451e-07 | Accuracy: 84.45%\n",
      "Epoch: 70000 | Loss: 8.312344107253011e-06 | Accuracy: 51.83%\n",
      "Epoch: 80000 | Loss: 4.6696570166204765e-07 | Accuracy: 91.09%\n",
      "Epoch: 90000 | Loss: 1.4620174226820382e-07 | Accuracy: 97.71%\n",
      "\n",
      "Epoch: 93479 | Loss: 1.4433967976401618e-07 | Accuracy: 99.15%\n"
     ]
    },
    {
     "data": {
      "text/plain": [
       "Text(0.5, 1.0, 'Traning accuracy')"
      ]
     },
     "execution_count": 420,
     "metadata": {},
     "output_type": "execute_result"
    },
    {
     "data": {
      "image/png": "[encoded data removed]",
      "text/plain": [
       "<Figure size 1200x300 with 2 Axes>"
      ]
     },
     "metadata": {},
     "output_type": "display_data"
    }
   ],
   "source": [
    "#Encode-Decode Traning loop\n",
    "\n",
    "torch.manual_seed(42)\n",
    "epochs = 100000\n",
    "loss_plt = []\n",
    "acc_plt = []\n",
    "model0 = CandleClassifier()\n",
    "model0 = model0.to(\"cpu\")\n",
    "candles_norm = candles_norm.to('cpu')\n",
    "loss_fn =  nn.MSELoss()\n",
    "optimizer = torch.optim.Adam(model0.parameters(), lr = 0.001) # Adam optimizer was choosen insted of SGD due convergency issues with SGD\n",
    "\n",
    "      \n",
    "for epoch in range(epochs):\n",
    "\n",
    "    #set train mode\n",
    "    model0.train()\n",
    "\n",
    "    #forward pass\n",
    "    out = model0(candles_norm)\n",
    "    \n",
    "    #loss and accuracy calculation\n",
    "    loss = loss_fn(out, candles_norm)\n",
    "    acc = accuracy(out, candles_norm, 1e-3)\n",
    "    \n",
    "    optimizer.zero_grad()\n",
    "    loss.backward()\n",
    "    optimizer.step()\n",
    "    \n",
    "    #calculate and collect loss and accucary values through the traning fot further plot and print\n",
    "    if epoch % 100 == 0:\n",
    "        loss_plt.append(loss.item())\n",
    "        acc_plt.append(acc)\n",
    "    if epoch % (epochs/10) == 0:\n",
    "        print(f\"Epoch: {epoch} | Loss: {loss} | Accuracy: %.2f\" % (acc*100)+\"%\")\n",
    "    #Break the traning loop in case the accuracy 99% is achieved    \n",
    "    if acc > 0.99:\n",
    "        break\n",
    "#adding final Loss and accucacy    \n",
    "loss_plt.append(loss.item())\n",
    "acc_plt.append(acc)\n",
    "print(f\"\\nEpoch: {epoch} | Loss: {loss} | Accuracy: %.2f\" % (acc*100)+\"%\")\n",
    "\n",
    "#Plot loss function and accuracy change through the traning\n",
    "plt.figure(figsize=(12,3))\n",
    "plt.subplot(121)\n",
    "plt.plot(loss_plt)\n",
    "plt.title('Traning loss function')\n",
    "\n",
    "plt.subplot(122)\n",
    "plt.plot(acc_plt, color='orange')\n",
    "plt.title('Traning accuracy')"
   ]
  },
  {
   "cell_type": "code",
   "execution_count": 426,
   "metadata": {},
   "outputs": [
    {
     "data": {
      "image/png": "[encoded data removed]",
      "text/plain": [
       "<Figure size 1500x800 with 50 Axes>"
      ]
     },
     "metadata": {},
     "output_type": "display_data"
    }
   ],
   "source": [
    "#plot example of 50 candles labels(classes) (kind of candle class code. )\n",
    "#These candles are plotted in the next notebook cell\n",
    "\n",
    "plt.figure(figsize=(15,8))\n",
    "plt.rcParams.update({'font.size': 6})\n",
    "for i in range(50):\n",
    "    plt.subplot(5,10,i+1)\n",
    "    plt.title(f'Candle #{i}')\n",
    "    x = torch.tensor(list(enumerate(model0.label[5000+i].detach().numpy())))[:,0]\n",
    "    y = torch.tensor(list(enumerate(model0.label[5000+i].detach().numpy())))[:,1]\n",
    "    plt.bar(x,y)\n"
   ]
  },
  {
   "cell_type": "code",
   "execution_count": 422,
   "metadata": {},
   "outputs": [],
   "source": [
    "##Function to plot candles from the dataset generated based on prediction\n",
    "def plot_sample(sample):\n",
    "    import plotly.graph_objects as go\n",
    "\n",
    "    cdl_data = pd.DataFrame(sample, columns=('open','high','low','close') )\n",
    "\n",
    "    fig = go.Figure(data=[go.Candlestick(x=cdl_data.index,\n",
    "                    open=cdl_data['open'], high=cdl_data['high'],\n",
    "                    low=cdl_data['low'], close=cdl_data['close'])\n",
    "                        ])\n",
    "\n",
    "    # fig.add_trace(\n",
    "    #     go.Scatter(\n",
    "    #         x=cdl_data.index,\n",
    "    #         y=cdl_data['high'],\n",
    "    #         mode= \"text\",\n",
    "            \n",
    "    #         text = cdl_data['class'],\n",
    "    #         textposition = 'top center',\n",
    "    #         textfont = {'size':8}))\n",
    "\n",
    "    fig.update_layout(xaxis_rangeslider_visible=False)\n",
    "    fig.show()"
   ]
  },
  {
   "cell_type": "code",
   "execution_count": 423,
   "metadata": {},
   "outputs": [
    {
     "data": {
      "application/vnd.plotly.v1+json": {
       "config": {
        "plotlyServerURL": "https://plot.ly"
       },
       "data": [
        {
         "close": [
          0.8194250464439392,
          -0.00005898624658584595,
          0.44475600123405457,
          0.18278825283050537,
          0.9996753334999084,
          0.44464772939682007,
          1.0013996362686157,
          0.000554598867893219,
          0.5457197427749634,
          0.8011590838432312,
          0.00020776689052581787,
          0.24970215559005737,
          0.39992040395736694,
          1.0000877380371094,
          1.0000877380371094,
          0.00020776689052581787,
          0.7507423162460327,
          0.332874059677124,
          1.0000877380371094,
          0.22298982739448547,
          0.00020776689052581787,
          0.5554267168045044,
          0.9992244839668274,
          0.9994599223136902,
          0.00016520172357559204,
          1.0000877380371094,
          0.8011590838432312,
          1.0000877380371094,
          0.8346405029296875,
          1.0005590915679932,
          0.3335880637168884,
          -0.0003714635968208313,
          0.14314699172973633,
          0.00020776689052581787,
          0.22289559245109558,
          0.0006178393959999084,
          0.11196450889110565,
          0.9991810321807861,
          0.4996768534183502,
          0.8189022541046143,
          0.7278332114219666,
          0.2502100467681885,
          0.9992244839668274,
          0.000554598867893219,
          0.00007604062557220459,
          0.2995908260345459,
          1.000173568725586,
          1.0000877380371094,
          0.0005980208516120911,
          0.9996753334999084
         ],
         "high": [
          0.9997945427894592,
          0.9997469186782837,
          0.9998041391372681,
          0.9997768402099609,
          0.9998021721839905,
          0.9998589754104614,
          0.9998825192451477,
          0.999703586101532,
          0.9998231530189514,
          0.999789834022522,
          0.9997527003288269,
          0.9998342990875244,
          0.9997569918632507,
          0.9998018145561218,
          0.9998018145561218,
          0.9997527003288269,
          0.9997806549072266,
          0.9998246431350708,
          0.9998018145561218,
          0.999779999256134,
          0.9997527003288269,
          0.999782919883728,
          0.9997573494911194,
          0.9997655153274536,
          0.9997293949127197,
          0.9998018145561218,
          0.999789834022522,
          0.9998018145561218,
          0.9997988939285278,
          0.99984210729599,
          0.9997667670249939,
          0.9997739791870117,
          0.9998711347579956,
          0.9997527003288269,
          0.9997789859771729,
          0.9997089505195618,
          0.9997656941413879,
          0.9997600317001343,
          0.9997919797897339,
          0.9997748136520386,
          0.9997547268867493,
          0.9999154210090637,
          0.9997573494911194,
          0.999703586101532,
          -0.00013270601630210876,
          0.9998297691345215,
          0.9998325705528259,
          0.9998018145561218,
          0.9997118711471558,
          0.9998021721839905
         ],
         "low": [
          0.00011613219976425171,
          0.00010517239570617676,
          0.00009641796350479126,
          0.00009863078594207764,
          0.00010680407285690308,
          0.00008377432823181152,
          0.00008878111839294434,
          0.00011958181858062744,
          0.00009585171937942505,
          0.00011761486530303955,
          0.0001228228211402893,
          0.0001009032130241394,
          0.00010573863983154297,
          0.00010239332914352417,
          0.00010239332914352417,
          0.0001228228211402893,
          0.00011169910430908203,
          0.0001046210527420044,
          0.00010239332914352417,
          0.00009766221046447754,
          0.0001228228211402893,
          0.00011897087097167969,
          0.00011696666479110718,
          0.00011507421731948853,
          0.00011006742715835571,
          0.00010239332914352417,
          0.00011761486530303955,
          0.00010239332914352417,
          0.00011476874351501465,
          0.00009523332118988037,
          0.00010919570922851562,
          0.00009843707084655762,
          0.000072479248046875,
          0.0001228228211402893,
          0.00010118633508682251,
          0.00012439489364624023,
          0.00010344386100769043,
          0.00011636316776275635,
          0.00011587142944335938,
          0.00011254101991653442,
          0.00011754781007766724,
          0.00006458908319473267,
          0.00011696666479110718,
          0.00011958181858062744,
          0.000028580427169799805,
          0.00010278075933456421,
          0.00009945780038833618,
          0.00010239332914352417,
          0.00012456625699996948,
          0.00010680407285690308
         ],
         "open": [
          0.9987315535545349,
          0.571154773235321,
          0.4440304636955261,
          -0.0012515410780906677,
          0.3993057608604431,
          0.2217852920293808,
          0.9998770356178284,
          0.7497884035110474,
          0.18178199231624603,
          0.9986770749092102,
          0.9996792674064636,
          1.0000532865524292,
          -0.0006522834300994873,
          -0.0005400404334068298,
          -0.0005400404334068298,
          0.9996792674064636,
          0.2500506043434143,
          0.9997398257255554,
          -0.0005400404334068298,
          -0.001316159963607788,
          0.9996792674064636,
          0.9988073706626892,
          0.6675360202789307,
          0.751174807548523,
          0.6247121691703796,
          -0.0005400404334068298,
          0.9986770749092102,
          -0.0005400404334068298,
          0.9987851977348328,
          0.08990354835987091,
          0.8335660099983215,
          0.4998094439506531,
          0.427886426448822,
          0.9996792674064636,
          0.7779877185821533,
          0.8748677372932434,
          0.7778992652893066,
          0.6005027890205383,
          0.9990074038505554,
          0.09129571914672852,
          0.36359596252441406,
          0.249103382229805,
          0.6675360202789307,
          0.7497884035110474,
          -0.000046640634536743164,
          0.9998771548271179,
          0.2845894694328308,
          -0.0005400404334068298,
          0.8887543082237244,
          0.3993057608604431
         ],
         "type": "candlestick",
         "x": [
          0,
          1,
          2,
          3,
          4,
          5,
          6,
          7,
          8,
          9,
          10,
          11,
          12,
          13,
          14,
          15,
          16,
          17,
          18,
          19,
          20,
          21,
          22,
          23,
          24,
          25,
          26,
          27,
          28,
          29,
          30,
          31,
          32,
          33,
          34,
          35,
          36,
          37,
          38,
          39,
          40,
          41,
          42,
          43,
          44,
          45,
          46,
          47,
          48,
          49
         ]
        }
       ],
       "layout": {
        "template": {
         "data": {
          "bar": [
           {
            "error_x": {
             "color": "#2a3f5f"
            },
            "error_y": {
             "color": "#2a3f5f"
            },
            "marker": {
             "line": {
              "color": "#E5ECF6",
              "width": 0.5
             },
             "pattern": {
              "fillmode": "overlay",
              "size": 10,
              "solidity": 0.2
             }
            },
            "type": "bar"
           }
          ],
          "barpolar": [
           {
            "marker": {
             "line": {
              "color": "#E5ECF6",
              "width": 0.5
             },
             "pattern": {
              "fillmode": "overlay",
              "size": 10,
              "solidity": 0.2
             }
            },
            "type": "barpolar"
           }
          ],
          "carpet": [
           {
            "aaxis": {
             "endlinecolor": "#2a3f5f",
             "gridcolor": "white",
             "linecolor": "white",
             "minorgridcolor": "white",
             "startlinecolor": "#2a3f5f"
            },
            "baxis": {
             "endlinecolor": "#2a3f5f",
             "gridcolor": "white",
             "linecolor": "white",
             "minorgridcolor": "white",
             "startlinecolor": "#2a3f5f"
            },
            "type": "carpet"
           }
          ],
          "choropleth": [
           {
            "colorbar": {
             "outlinewidth": 0,
             "ticks": ""
            },
            "type": "choropleth"
           }
          ],
          "contour": [
           {
            "colorbar": {
             "outlinewidth": 0,
             "ticks": ""
            },
            "colorscale": [
             [
              0,
              "#0d0887"
             ],
             [
              0.1111111111111111,
              "#46039f"
             ],
             [
              0.2222222222222222,
              "#7201a8"
             ],
             [
              0.3333333333333333,
              "#9c179e"
             ],
             [
              0.4444444444444444,
              "#bd3786"
             ],
             [
              0.5555555555555556,
              "#d8576b"
             ],
             [
              0.6666666666666666,
              "#ed7953"
             ],
             [
              0.7777777777777778,
              "#fb9f3a"
             ],
             [
              0.8888888888888888,
              "#fdca26"
             ],
             [
              1,
              "#f0f921"
             ]
            ],
            "type": "contour"
           }
          ],
          "contourcarpet": [
           {
            "colorbar": {
             "outlinewidth": 0,
             "ticks": ""
            },
            "type": "contourcarpet"
           }
          ],
          "heatmap": [
           {
            "colorbar": {
             "outlinewidth": 0,
             "ticks": ""
            },
            "colorscale": [
             [
              0,
              "#0d0887"
             ],
             [
              0.1111111111111111,
              "#46039f"
             ],
             [
              0.2222222222222222,
              "#7201a8"
             ],
             [
              0.3333333333333333,
              "#9c179e"
             ],
             [
              0.4444444444444444,
              "#bd3786"
             ],
             [
              0.5555555555555556,
              "#d8576b"
             ],
             [
              0.6666666666666666,
              "#ed7953"
             ],
             [
              0.7777777777777778,
              "#fb9f3a"
             ],
             [
              0.8888888888888888,
              "#fdca26"
             ],
             [
              1,
              "#f0f921"
             ]
            ],
            "type": "heatmap"
           }
          ],
          "heatmapgl": [
           {
            "colorbar": {
             "outlinewidth": 0,
             "ticks": ""
            },
            "colorscale": [
             [
              0,
              "#0d0887"
             ],
             [
              0.1111111111111111,
              "#46039f"
             ],
             [
              0.2222222222222222,
              "#7201a8"
             ],
             [
              0.3333333333333333,
              "#9c179e"
             ],
             [
              0.4444444444444444,
              "#bd3786"
             ],
             [
              0.5555555555555556,
              "#d8576b"
             ],
             [
              0.6666666666666666,
              "#ed7953"
             ],
             [
              0.7777777777777778,
              "#fb9f3a"
             ],
             [
              0.8888888888888888,
              "#fdca26"
             ],
             [
              1,
              "#f0f921"
             ]
            ],
            "type": "heatmapgl"
           }
          ],
          "histogram": [
           {
            "marker": {
             "pattern": {
              "fillmode": "overlay",
              "size": 10,
              "solidity": 0.2
             }
            },
            "type": "histogram"
           }
          ],
          "histogram2d": [
           {
            "colorbar": {
             "outlinewidth": 0,
             "ticks": ""
            },
            "colorscale": [
             [
              0,
              "#0d0887"
             ],
             [
              0.1111111111111111,
              "#46039f"
             ],
             [
              0.2222222222222222,
              "#7201a8"
             ],
             [
              0.3333333333333333,
              "#9c179e"
             ],
             [
              0.4444444444444444,
              "#bd3786"
             ],
             [
              0.5555555555555556,
              "#d8576b"
             ],
             [
              0.6666666666666666,
              "#ed7953"
             ],
             [
              0.7777777777777778,
              "#fb9f3a"
             ],
             [
              0.8888888888888888,
              "#fdca26"
             ],
             [
              1,
              "#f0f921"
             ]
            ],
            "type": "histogram2d"
           }
          ],
          "histogram2dcontour": [
           {
            "colorbar": {
             "outlinewidth": 0,
             "ticks": ""
            },
            "colorscale": [
             [
              0,
              "#0d0887"
             ],
             [
              0.1111111111111111,
              "#46039f"
             ],
             [
              0.2222222222222222,
              "#7201a8"
             ],
             [
              0.3333333333333333,
              "#9c179e"
             ],
             [
              0.4444444444444444,
              "#bd3786"
             ],
             [
              0.5555555555555556,
              "#d8576b"
             ],
             [
              0.6666666666666666,
              "#ed7953"
             ],
             [
              0.7777777777777778,
              "#fb9f3a"
             ],
             [
              0.8888888888888888,
              "#fdca26"
             ],
             [
              1,
              "#f0f921"
             ]
            ],
            "type": "histogram2dcontour"
           }
          ],
          "mesh3d": [
           {
            "colorbar": {
             "outlinewidth": 0,
             "ticks": ""
            },
            "type": "mesh3d"
           }
          ],
          "parcoords": [
           {
            "line": {
             "colorbar": {
              "outlinewidth": 0,
              "ticks": ""
             }
            },
            "type": "parcoords"
           }
          ],
          "pie": [
           {
            "automargin": true,
            "type": "pie"
           }
          ],
          "scatter": [
           {
            "fillpattern": {
             "fillmode": "overlay",
             "size": 10,
             "solidity": 0.2
            },
            "type": "scatter"
           }
          ],
          "scatter3d": [
           {
            "line": {
             "colorbar": {
              "outlinewidth": 0,
              "ticks": ""
             }
            },
            "marker": {
             "colorbar": {
              "outlinewidth": 0,
              "ticks": ""
             }
            },
            "type": "scatter3d"
           }
          ],
          "scattercarpet": [
           {
            "marker": {
             "colorbar": {
              "outlinewidth": 0,
              "ticks": ""
             }
            },
            "type": "scattercarpet"
           }
          ],
          "scattergeo": [
           {
            "marker": {
             "colorbar": {
              "outlinewidth": 0,
              "ticks": ""
             }
            },
            "type": "scattergeo"
           }
          ],
          "scattergl": [
           {
            "marker": {
             "colorbar": {
              "outlinewidth": 0,
              "ticks": ""
             }
            },
            "type": "scattergl"
           }
          ],
          "scattermapbox": [
           {
            "marker": {
             "colorbar": {
              "outlinewidth": 0,
              "ticks": ""
             }
            },
            "type": "scattermapbox"
           }
          ],
          "scatterpolar": [
           {
            "marker": {
             "colorbar": {
              "outlinewidth": 0,
              "ticks": ""
             }
            },
            "type": "scatterpolar"
           }
          ],
          "scatterpolargl": [
           {
            "marker": {
             "colorbar": {
              "outlinewidth": 0,
              "ticks": ""
             }
            },
            "type": "scatterpolargl"
           }
          ],
          "scatterternary": [
           {
            "marker": {
             "colorbar": {
              "outlinewidth": 0,
              "ticks": ""
             }
            },
            "type": "scatterternary"
           }
          ],
          "surface": [
           {
            "colorbar": {
             "outlinewidth": 0,
             "ticks": ""
            },
            "colorscale": [
             [
              0,
              "#0d0887"
             ],
             [
              0.1111111111111111,
              "#46039f"
             ],
             [
              0.2222222222222222,
              "#7201a8"
             ],
             [
              0.3333333333333333,
              "#9c179e"
             ],
             [
              0.4444444444444444,
              "#bd3786"
             ],
             [
              0.5555555555555556,
              "#d8576b"
             ],
             [
              0.6666666666666666,
              "#ed7953"
             ],
             [
              0.7777777777777778,
              "#fb9f3a"
             ],
             [
              0.8888888888888888,
              "#fdca26"
             ],
             [
              1,
              "#f0f921"
             ]
            ],
            "type": "surface"
           }
          ],
          "table": [
           {
            "cells": {
             "fill": {
              "color": "#EBF0F8"
             },
             "line": {
              "color": "white"
             }
            },
            "header": {
             "fill": {
              "color": "#C8D4E3"
             },
             "line": {
              "color": "white"
             }
            },
            "type": "table"
           }
          ]
         },
         "layout": {
          "annotationdefaults": {
           "arrowcolor": "#2a3f5f",
           "arrowhead": 0,
           "arrowwidth": 1
          },
          "autotypenumbers": "strict",
          "coloraxis": {
           "colorbar": {
            "outlinewidth": 0,
            "ticks": ""
           }
          },
          "colorscale": {
           "diverging": [
            [
             0,
             "#8e0152"
            ],
            [
             0.1,
             "#c51b7d"
            ],
            [
             0.2,
             "#de77ae"
            ],
            [
             0.3,
             "#f1b6da"
            ],
            [
             0.4,
             "#fde0ef"
            ],
            [
             0.5,
             "#f7f7f7"
            ],
            [
             0.6,
             "#e6f5d0"
            ],
            [
             0.7,
             "#b8e186"
            ],
            [
             0.8,
             "#7fbc41"
            ],
            [
             0.9,
             "#4d9221"
            ],
            [
             1,
             "#276419"
            ]
           ],
           "sequential": [
            [
             0,
             "#0d0887"
            ],
            [
             0.1111111111111111,
             "#46039f"
            ],
            [
             0.2222222222222222,
             "#7201a8"
            ],
            [
             0.3333333333333333,
             "#9c179e"
            ],
            [
             0.4444444444444444,
             "#bd3786"
            ],
            [
             0.5555555555555556,
             "#d8576b"
            ],
            [
             0.6666666666666666,
             "#ed7953"
            ],
            [
             0.7777777777777778,
             "#fb9f3a"
            ],
            [
             0.8888888888888888,
             "#fdca26"
            ],
            [
             1,
             "#f0f921"
            ]
           ],
           "sequentialminus": [
            [
             0,
             "#0d0887"
            ],
            [
             0.1111111111111111,
             "#46039f"
            ],
            [
             0.2222222222222222,
             "#7201a8"
            ],
            [
             0.3333333333333333,
             "#9c179e"
            ],
            [
             0.4444444444444444,
             "#bd3786"
            ],
            [
             0.5555555555555556,
             "#d8576b"
            ],
            [
             0.6666666666666666,
             "#ed7953"
            ],
            [
             0.7777777777777778,
             "#fb9f3a"
            ],
            [
             0.8888888888888888,
             "#fdca26"
            ],
            [
             1,
             "#f0f921"
            ]
           ]
          },
          "colorway": [
           "#636efa",
           "#EF553B",
           "#00cc96",
           "#ab63fa",
           "#FFA15A",
           "#19d3f3",
           "#FF6692",
           "#B6E880",
           "#FF97FF",
           "#FECB52"
          ],
          "font": {
           "color": "#2a3f5f"
          },
          "geo": {
           "bgcolor": "white",
           "lakecolor": "white",
           "landcolor": "#E5ECF6",
           "showlakes": true,
           "showland": true,
           "subunitcolor": "white"
          },
          "hoverlabel": {
           "align": "left"
          },
          "hovermode": "closest",
          "mapbox": {
           "style": "light"
          },
          "paper_bgcolor": "white",
          "plot_bgcolor": "#E5ECF6",
          "polar": {
           "angularaxis": {
            "gridcolor": "white",
            "linecolor": "white",
            "ticks": ""
           },
           "bgcolor": "#E5ECF6",
           "radialaxis": {
            "gridcolor": "white",
            "linecolor": "white",
            "ticks": ""
           }
          },
          "scene": {
           "xaxis": {
            "backgroundcolor": "#E5ECF6",
            "gridcolor": "white",
            "gridwidth": 2,
            "linecolor": "white",
            "showbackground": true,
            "ticks": "",
            "zerolinecolor": "white"
           },
           "yaxis": {
            "backgroundcolor": "#E5ECF6",
            "gridcolor": "white",
            "gridwidth": 2,
            "linecolor": "white",
            "showbackground": true,
            "ticks": "",
            "zerolinecolor": "white"
           },
           "zaxis": {
            "backgroundcolor": "#E5ECF6",
            "gridcolor": "white",
            "gridwidth": 2,
            "linecolor": "white",
            "showbackground": true,
            "ticks": "",
            "zerolinecolor": "white"
           }
          },
          "shapedefaults": {
           "line": {
            "color": "#2a3f5f"
           }
          },
          "ternary": {
           "aaxis": {
            "gridcolor": "white",
            "linecolor": "white",
            "ticks": ""
           },
           "baxis": {
            "gridcolor": "white",
            "linecolor": "white",
            "ticks": ""
           },
           "bgcolor": "#E5ECF6",
           "caxis": {
            "gridcolor": "white",
            "linecolor": "white",
            "ticks": ""
           }
          },
          "title": {
           "x": 0.05
          },
          "xaxis": {
           "automargin": true,
           "gridcolor": "white",
           "linecolor": "white",
           "ticks": "",
           "title": {
            "standoff": 15
           },
           "zerolinecolor": "white",
           "zerolinewidth": 2
          },
          "yaxis": {
           "automargin": true,
           "gridcolor": "white",
           "linecolor": "white",
           "ticks": "",
           "title": {
            "standoff": 15
           },
           "zerolinecolor": "white",
           "zerolinewidth": 2
          }
         }
        },
        "xaxis": {
         "rangeslider": {
          "visible": false
         }
        }
       }
      }
     },
     "metadata": {},
     "output_type": "display_data"
    },
    {
     "data": {
      "application/vnd.plotly.v1+json": {
       "config": {
        "plotlyServerURL": "https://plot.ly"
       },
       "data": [
        {
         "close": [
          12131.5,
          12130,
          12131,
          12130.5,
          12131,
          12132,
          12132,
          12128.5,
          12129.25,
          12130,
          12128.5,
          12129,
          12129.5,
          12131,
          12133.5,
          12132.75,
          12132.75,
          12131.25,
          12134,
          12134.75,
          12132.5,
          12131.25,
          12130.75,
          12130.5,
          12129.25,
          12132,
          12132.75,
          12133,
          12131.75,
          12135.5,
          12134.75,
          12134.75,
          12134.25,
          12132,
          12129.5,
          12129.25,
          12129,
          12130.75,
          12130,
          12132,
          12133.5,
          12132.5,
          12132,
          12132,
          12132,
          12130.75,
          12131.5,
          12132.5,
          12130.75,
          12130.5
         ],
         "high": [
          12132,
          12131.75,
          12132.25,
          12132.75,
          12131,
          12133.25,
          12132,
          12130.5,
          12130.5,
          12130.25,
          12130.25,
          12129.75,
          12131,
          12131,
          12133.5,
          12133.75,
          12133,
          12132.25,
          12134,
          12136.5,
          12135.25,
          12132.25,
          12130.75,
          12130.5,
          12131.25,
          12132,
          12133,
          12133,
          12132,
          12135.5,
          12135.75,
          12135.25,
          12135.75,
          12134.25,
          12131.25,
          12131.25,
          12131,
          12130.75,
          12130.75,
          12132.5,
          12134.25,
          12133.25,
          12132,
          12133,
          12132,
          12132.5,
          12131.5,
          12132.5,
          12133,
          12130.5
         ],
         "low": [
          12129.25,
          12130,
          12130,
          12130,
          12129.75,
          12131,
          12130,
          12128.5,
          12127.75,
          12129,
          12128.5,
          12128.75,
          12128.5,
          12129.5,
          12131.25,
          12132.75,
          12132,
          12130.75,
          12131.75,
          12134.25,
          12132.5,
          12130,
          12130,
          12129.5,
          12129.25,
          12129,
          12131.75,
          12132.75,
          12130.5,
          12132.75,
          12134.25,
          12134.75,
          12134,
          12132,
          12129,
          12129.25,
          12128.75,
          12129.5,
          12129.25,
          12129.75,
          12131.5,
          12132.25,
          12129.75,
          12132,
          12132,
          12130,
          12129.75,
          12132,
          12130.75,
          12129.25
         ],
         "open": [
          12132,
          12131,
          12131,
          12130,
          12130.25,
          12131.5,
          12132,
          12130,
          12128.25,
          12130.25,
          12130.25,
          12129.75,
          12128.5,
          12129.5,
          12131.25,
          12133.75,
          12132.25,
          12132.25,
          12131.75,
          12134.25,
          12135.25,
          12132.25,
          12130.5,
          12130.25,
          12130.5,
          12129,
          12133,
          12132.75,
          12132,
          12133,
          12135.5,
          12135,
          12134.75,
          12134.25,
          12130.75,
          12131,
          12130.5,
          12130.25,
          12130.75,
          12130,
          12132.5,
          12132.5,
          12131.25,
          12132.75,
          12132,
          12132.5,
          12130.25,
          12132,
          12132.75,
          12129.75
         ],
         "type": "candlestick",
         "x": [
          0,
          1,
          2,
          3,
          4,
          5,
          6,
          7,
          8,
          9,
          10,
          11,
          12,
          13,
          14,
          15,
          16,
          17,
          18,
          19,
          20,
          21,
          22,
          23,
          24,
          25,
          26,
          27,
          28,
          29,
          30,
          31,
          32,
          33,
          34,
          35,
          36,
          37,
          38,
          39,
          40,
          41,
          42,
          43,
          44,
          45,
          46,
          47,
          48,
          49
         ]
        }
       ],
       "layout": {
        "template": {
         "data": {
          "bar": [
           {
            "error_x": {
             "color": "#2a3f5f"
            },
            "error_y": {
             "color": "#2a3f5f"
            },
            "marker": {
             "line": {
              "color": "#E5ECF6",
              "width": 0.5
             },
             "pattern": {
              "fillmode": "overlay",
              "size": 10,
              "solidity": 0.2
             }
            },
            "type": "bar"
           }
          ],
          "barpolar": [
           {
            "marker": {
             "line": {
              "color": "#E5ECF6",
              "width": 0.5
             },
             "pattern": {
              "fillmode": "overlay",
              "size": 10,
              "solidity": 0.2
             }
            },
            "type": "barpolar"
           }
          ],
          "carpet": [
           {
            "aaxis": {
             "endlinecolor": "#2a3f5f",
             "gridcolor": "white",
             "linecolor": "white",
             "minorgridcolor": "white",
             "startlinecolor": "#2a3f5f"
            },
            "baxis": {
             "endlinecolor": "#2a3f5f",
             "gridcolor": "white",
             "linecolor": "white",
             "minorgridcolor": "white",
             "startlinecolor": "#2a3f5f"
            },
            "type": "carpet"
           }
          ],
          "choropleth": [
           {
            "colorbar": {
             "outlinewidth": 0,
             "ticks": ""
            },
            "type": "choropleth"
           }
          ],
          "contour": [
           {
            "colorbar": {
             "outlinewidth": 0,
             "ticks": ""
            },
            "colorscale": [
             [
              0,
              "#0d0887"
             ],
             [
              0.1111111111111111,
              "#46039f"
             ],
             [
              0.2222222222222222,
              "#7201a8"
             ],
             [
              0.3333333333333333,
              "#9c179e"
             ],
             [
              0.4444444444444444,
              "#bd3786"
             ],
             [
              0.5555555555555556,
              "#d8576b"
             ],
             [
              0.6666666666666666,
              "#ed7953"
             ],
             [
              0.7777777777777778,
              "#fb9f3a"
             ],
             [
              0.8888888888888888,
              "#fdca26"
             ],
             [
              1,
              "#f0f921"
             ]
            ],
            "type": "contour"
           }
          ],
          "contourcarpet": [
           {
            "colorbar": {
             "outlinewidth": 0,
             "ticks": ""
            },
            "type": "contourcarpet"
           }
          ],
          "heatmap": [
           {
            "colorbar": {
             "outlinewidth": 0,
             "ticks": ""
            },
            "colorscale": [
             [
              0,
              "#0d0887"
             ],
             [
              0.1111111111111111,
              "#46039f"
             ],
             [
              0.2222222222222222,
              "#7201a8"
             ],
             [
              0.3333333333333333,
              "#9c179e"
             ],
             [
              0.4444444444444444,
              "#bd3786"
             ],
             [
              0.5555555555555556,
              "#d8576b"
             ],
             [
              0.6666666666666666,
              "#ed7953"
             ],
             [
              0.7777777777777778,
              "#fb9f3a"
             ],
             [
              0.8888888888888888,
              "#fdca26"
             ],
             [
              1,
              "#f0f921"
             ]
            ],
            "type": "heatmap"
           }
          ],
          "heatmapgl": [
           {
            "colorbar": {
             "outlinewidth": 0,
             "ticks": ""
            },
            "colorscale": [
             [
              0,
              "#0d0887"
             ],
             [
              0.1111111111111111,
              "#46039f"
             ],
             [
              0.2222222222222222,
              "#7201a8"
             ],
             [
              0.3333333333333333,
              "#9c179e"
             ],
             [
              0.4444444444444444,
              "#bd3786"
             ],
             [
              0.5555555555555556,
              "#d8576b"
             ],
             [
              0.6666666666666666,
              "#ed7953"
             ],
             [
              0.7777777777777778,
              "#fb9f3a"
             ],
             [
              0.8888888888888888,
              "#fdca26"
             ],
             [
              1,
              "#f0f921"
             ]
            ],
            "type": "heatmapgl"
           }
          ],
          "histogram": [
           {
            "marker": {
             "pattern": {
              "fillmode": "overlay",
              "size": 10,
              "solidity": 0.2
             }
            },
            "type": "histogram"
           }
          ],
          "histogram2d": [
           {
            "colorbar": {
             "outlinewidth": 0,
             "ticks": ""
            },
            "colorscale": [
             [
              0,
              "#0d0887"
             ],
             [
              0.1111111111111111,
              "#46039f"
             ],
             [
              0.2222222222222222,
              "#7201a8"
             ],
             [
              0.3333333333333333,
              "#9c179e"
             ],
             [
              0.4444444444444444,
              "#bd3786"
             ],
             [
              0.5555555555555556,
              "#d8576b"
             ],
             [
              0.6666666666666666,
              "#ed7953"
             ],
             [
              0.7777777777777778,
              "#fb9f3a"
             ],
             [
              0.8888888888888888,
              "#fdca26"
             ],
             [
              1,
              "#f0f921"
             ]
            ],
            "type": "histogram2d"
           }
          ],
          "histogram2dcontour": [
           {
            "colorbar": {
             "outlinewidth": 0,
             "ticks": ""
            },
            "colorscale": [
             [
              0,
              "#0d0887"
             ],
             [
              0.1111111111111111,
              "#46039f"
             ],
             [
              0.2222222222222222,
              "#7201a8"
             ],
             [
              0.3333333333333333,
              "#9c179e"
             ],
             [
              0.4444444444444444,
              "#bd3786"
             ],
             [
              0.5555555555555556,
              "#d8576b"
             ],
             [
              0.6666666666666666,
              "#ed7953"
             ],
             [
              0.7777777777777778,
              "#fb9f3a"
             ],
             [
              0.8888888888888888,
              "#fdca26"
             ],
             [
              1,
              "#f0f921"
             ]
            ],
            "type": "histogram2dcontour"
           }
          ],
          "mesh3d": [
           {
            "colorbar": {
             "outlinewidth": 0,
             "ticks": ""
            },
            "type": "mesh3d"
           }
          ],
          "parcoords": [
           {
            "line": {
             "colorbar": {
              "outlinewidth": 0,
              "ticks": ""
             }
            },
            "type": "parcoords"
           }
          ],
          "pie": [
           {
            "automargin": true,
            "type": "pie"
           }
          ],
          "scatter": [
           {
            "fillpattern": {
             "fillmode": "overlay",
             "size": 10,
             "solidity": 0.2
            },
            "type": "scatter"
           }
          ],
          "scatter3d": [
           {
            "line": {
             "colorbar": {
              "outlinewidth": 0,
              "ticks": ""
             }
            },
            "marker": {
             "colorbar": {
              "outlinewidth": 0,
              "ticks": ""
             }
            },
            "type": "scatter3d"
           }
          ],
          "scattercarpet": [
           {
            "marker": {
             "colorbar": {
              "outlinewidth": 0,
              "ticks": ""
             }
            },
            "type": "scattercarpet"
           }
          ],
          "scattergeo": [
           {
            "marker": {
             "colorbar": {
              "outlinewidth": 0,
              "ticks": ""
             }
            },
            "type": "scattergeo"
           }
          ],
          "scattergl": [
           {
            "marker": {
             "colorbar": {
              "outlinewidth": 0,
              "ticks": ""
             }
            },
            "type": "scattergl"
           }
          ],
          "scattermapbox": [
           {
            "marker": {
             "colorbar": {
              "outlinewidth": 0,
              "ticks": ""
             }
            },
            "type": "scattermapbox"
           }
          ],
          "scatterpolar": [
           {
            "marker": {
             "colorbar": {
              "outlinewidth": 0,
              "ticks": ""
             }
            },
            "type": "scatterpolar"
           }
          ],
          "scatterpolargl": [
           {
            "marker": {
             "colorbar": {
              "outlinewidth": 0,
              "ticks": ""
             }
            },
            "type": "scatterpolargl"
           }
          ],
          "scatterternary": [
           {
            "marker": {
             "colorbar": {
              "outlinewidth": 0,
              "ticks": ""
             }
            },
            "type": "scatterternary"
           }
          ],
          "surface": [
           {
            "colorbar": {
             "outlinewidth": 0,
             "ticks": ""
            },
            "colorscale": [
             [
              0,
              "#0d0887"
             ],
             [
              0.1111111111111111,
              "#46039f"
             ],
             [
              0.2222222222222222,
              "#7201a8"
             ],
             [
              0.3333333333333333,
              "#9c179e"
             ],
             [
              0.4444444444444444,
              "#bd3786"
             ],
             [
              0.5555555555555556,
              "#d8576b"
             ],
             [
              0.6666666666666666,
              "#ed7953"
             ],
             [
              0.7777777777777778,
              "#fb9f3a"
             ],
             [
              0.8888888888888888,
              "#fdca26"
             ],
             [
              1,
              "#f0f921"
             ]
            ],
            "type": "surface"
           }
          ],
          "table": [
           {
            "cells": {
             "fill": {
              "color": "#EBF0F8"
             },
             "line": {
              "color": "white"
             }
            },
            "header": {
             "fill": {
              "color": "#C8D4E3"
             },
             "line": {
              "color": "white"
             }
            },
            "type": "table"
           }
          ]
         },
         "layout": {
          "annotationdefaults": {
           "arrowcolor": "#2a3f5f",
           "arrowhead": 0,
           "arrowwidth": 1
          },
          "autotypenumbers": "strict",
          "coloraxis": {
           "colorbar": {
            "outlinewidth": 0,
            "ticks": ""
           }
          },
          "colorscale": {
           "diverging": [
            [
             0,
             "#8e0152"
            ],
            [
             0.1,
             "#c51b7d"
            ],
            [
             0.2,
             "#de77ae"
            ],
            [
             0.3,
             "#f1b6da"
            ],
            [
             0.4,
             "#fde0ef"
            ],
            [
             0.5,
             "#f7f7f7"
            ],
            [
             0.6,
             "#e6f5d0"
            ],
            [
             0.7,
             "#b8e186"
            ],
            [
             0.8,
             "#7fbc41"
            ],
            [
             0.9,
             "#4d9221"
            ],
            [
             1,
             "#276419"
            ]
           ],
           "sequential": [
            [
             0,
             "#0d0887"
            ],
            [
             0.1111111111111111,
             "#46039f"
            ],
            [
             0.2222222222222222,
             "#7201a8"
            ],
            [
             0.3333333333333333,
             "#9c179e"
            ],
            [
             0.4444444444444444,
             "#bd3786"
            ],
            [
             0.5555555555555556,
             "#d8576b"
            ],
            [
             0.6666666666666666,
             "#ed7953"
            ],
            [
             0.7777777777777778,
             "#fb9f3a"
            ],
            [
             0.8888888888888888,
             "#fdca26"
            ],
            [
             1,
             "#f0f921"
            ]
           ],
           "sequentialminus": [
            [
             0,
             "#0d0887"
            ],
            [
             0.1111111111111111,
             "#46039f"
            ],
            [
             0.2222222222222222,
             "#7201a8"
            ],
            [
             0.3333333333333333,
             "#9c179e"
            ],
            [
             0.4444444444444444,
             "#bd3786"
            ],
            [
             0.5555555555555556,
             "#d8576b"
            ],
            [
             0.6666666666666666,
             "#ed7953"
            ],
            [
             0.7777777777777778,
             "#fb9f3a"
            ],
            [
             0.8888888888888888,
             "#fdca26"
            ],
            [
             1,
             "#f0f921"
            ]
           ]
          },
          "colorway": [
           "#636efa",
           "#EF553B",
           "#00cc96",
           "#ab63fa",
           "#FFA15A",
           "#19d3f3",
           "#FF6692",
           "#B6E880",
           "#FF97FF",
           "#FECB52"
          ],
          "font": {
           "color": "#2a3f5f"
          },
          "geo": {
           "bgcolor": "white",
           "lakecolor": "white",
           "landcolor": "#E5ECF6",
           "showlakes": true,
           "showland": true,
           "subunitcolor": "white"
          },
          "hoverlabel": {
           "align": "left"
          },
          "hovermode": "closest",
          "mapbox": {
           "style": "light"
          },
          "paper_bgcolor": "white",
          "plot_bgcolor": "#E5ECF6",
          "polar": {
           "angularaxis": {
            "gridcolor": "white",
            "linecolor": "white",
            "ticks": ""
           },
           "bgcolor": "#E5ECF6",
           "radialaxis": {
            "gridcolor": "white",
            "linecolor": "white",
            "ticks": ""
           }
          },
          "scene": {
           "xaxis": {
            "backgroundcolor": "#E5ECF6",
            "gridcolor": "white",
            "gridwidth": 2,
            "linecolor": "white",
            "showbackground": true,
            "ticks": "",
            "zerolinecolor": "white"
           },
           "yaxis": {
            "backgroundcolor": "#E5ECF6",
            "gridcolor": "white",
            "gridwidth": 2,
            "linecolor": "white",
            "showbackground": true,
            "ticks": "",
            "zerolinecolor": "white"
           },
           "zaxis": {
            "backgroundcolor": "#E5ECF6",
            "gridcolor": "white",
            "gridwidth": 2,
            "linecolor": "white",
            "showbackground": true,
            "ticks": "",
            "zerolinecolor": "white"
           }
          },
          "shapedefaults": {
           "line": {
            "color": "#2a3f5f"
           }
          },
          "ternary": {
           "aaxis": {
            "gridcolor": "white",
            "linecolor": "white",
            "ticks": ""
           },
           "baxis": {
            "gridcolor": "white",
            "linecolor": "white",
            "ticks": ""
           },
           "bgcolor": "#E5ECF6",
           "caxis": {
            "gridcolor": "white",
            "linecolor": "white",
            "ticks": ""
           }
          },
          "title": {
           "x": 0.05
          },
          "xaxis": {
           "automargin": true,
           "gridcolor": "white",
           "linecolor": "white",
           "ticks": "",
           "title": {
            "standoff": 15
           },
           "zerolinecolor": "white",
           "zerolinewidth": 2
          },
          "yaxis": {
           "automargin": true,
           "gridcolor": "white",
           "linecolor": "white",
           "ticks": "",
           "title": {
            "standoff": 15
           },
           "zerolinecolor": "white",
           "zerolinewidth": 2
          }
         }
        },
        "xaxis": {
         "rangeslider": {
          "visible": false
         }
        }
       }
      }
     },
     "metadata": {},
     "output_type": "display_data"
    }
   ],
   "source": [
    "#plot normalized candles chart along with original candles, to compare if each candle has the same style (color, body height, ratio or shift)\n",
    "\n",
    "plot_sample(out[5000:5050].detach().numpy())\n",
    "plot_sample(candles_sample[5000:5050].detach().numpy())"
   ]
  },
  {
   "cell_type": "code",
   "execution_count": 441,
   "metadata": {},
   "outputs": [
    {
     "name": "stdout",
     "output_type": "stream",
     "text": [
      "Validation set accuracy: 97.85%\n"
     ]
    },
    {
     "data": {
      "application/vnd.plotly.v1+json": {
       "config": {
        "plotlyServerURL": "https://plot.ly"
       },
       "data": [
        {
         "close": [
          0.25007307529449463,
          0.499705970287323,
          0.5990880727767944,
          -0.00011393427848815918,
          0.5990880727767944,
          -0.00035700201988220215,
          0.7502268552780151,
          -0.0011599808931350708,
          0.8328699469566345,
          0.8745928406715393,
          -0.00011393427848815918,
          0.9994238615036011,
          0.5998102426528931,
          0.9994238615036011,
          0.833350658416748,
          0.9994238615036011,
          0.3322681188583374,
          -0.00035700201988220215,
          0.7496428489685059,
          1.0006895065307617,
          0.9994238615036011,
          -0.00011393427848815918,
          0.2491072118282318,
          0.7995579242706299,
          0.49912387132644653,
          -0.00011393427848815918,
          -0.00035700201988220215,
          0.33301469683647156,
          0.9986521601676941,
          0.9994238615036011,
          -0.00035700201988220215,
          0.3330773413181305,
          0.9986521601676941,
          0.9994238615036011,
          0.6664338111877441,
          0.9992929100990295,
          -0.00035700201988220215,
          0.9994238615036011,
          -0.00035700201988220215,
          -0.00011393427848815918,
          -0.00011393427848815918,
          0.5705045461654663,
          -0.0004536062479019165,
          0.9994238615036011,
          0.4995518624782562,
          0.20038896799087524,
          0.49904537200927734,
          0.83282870054245,
          0.16680675745010376,
          0.5547865629196167
         ],
         "high": [
          1.000191330909729,
          1.0001716613769531,
          1.0001031160354614,
          0.00011449307203292847,
          1.0001031160354614,
          1.000173807144165,
          1.000211477279663,
          1.0001983642578125,
          1.0001181364059448,
          1.0001320838928223,
          0.00011449307203292847,
          1.000198245048523,
          1.0002049207687378,
          1.000198245048523,
          1.0001720190048218,
          1.000198245048523,
          1.000249981880188,
          1.000173807144165,
          1.0001047849655151,
          1.000317931175232,
          1.000198245048523,
          0.00011449307203292847,
          1.000258445739746,
          1.0001088380813599,
          1.000119924545288,
          0.00011449307203292847,
          1.000173807144165,
          1.0001535415649414,
          1.0001920461654663,
          1.000198245048523,
          1.000173807144165,
          1.000277042388916,
          1.0001920461654663,
          1.000198245048523,
          1.00020432472229,
          1.0002299547195435,
          1.000173807144165,
          1.000198245048523,
          1.000173807144165,
          0.00011449307203292847,
          0.00011449307203292847,
          1.0001071691513062,
          1.000140905380249,
          1.000198245048523,
          1.0001342296600342,
          1.0001596212387085,
          1.0002198219299316,
          1.0001108646392822,
          1.0001952648162842,
          1.0002113580703735
         ],
         "low": [
          -0.00005476921796798706,
          -0.000046059489250183105,
          -0.000022530555725097656,
          -0.000013217329978942871,
          -0.000022530555725097656,
          -0.000035099685192108154,
          -0.000051587820053100586,
          -0.00005044788122177124,
          -0.000026620924472808838,
          -0.00003068894147872925,
          -0.000013217329978942871,
          -0.00005014985799789429,
          -0.00004748255014419556,
          -0.00005014985799789429,
          -0.00004059821367263794,
          -0.00005014985799789429,
          -0.00005929917097091675,
          -0.000035099685192108154,
          -0.00002831965684890747,
          -0.00008845329284667969,
          -0.00005014985799789429,
          -0.000013217329978942871,
          -0.00006148219108581543,
          -0.000028915703296661377,
          -0.00002742558717727661,
          -0.000013217329978942871,
          -0.000035099685192108154,
          -0.000036619603633880615,
          -0.00005214661359786987,
          -0.00005014985799789429,
          -0.000035099685192108154,
          -0.00007192790508270264,
          -0.00005214661359786987,
          -0.00005014985799789429,
          -0.000048354268074035645,
          -0.000058338046073913574,
          -0.000035099685192108154,
          -0.00005014985799789429,
          -0.000035099685192108154,
          -0.000013217329978942871,
          -0.000013217329978942871,
          -0.000023692846298217773,
          -0.00003941357135772705,
          -0.00005014985799789429,
          -0.000037126243114471436,
          -0.000036932528018951416,
          -0.000051215291023254395,
          -0.000030443072319030762,
          -0.00005360692739486694,
          -0.00004920363426208496
         ],
         "open": [
          0.7504025101661682,
          0.5000333189964294,
          0.000855177640914917,
          0.00003310292959213257,
          0.000855177640914917,
          0.999957799911499,
          0.9988676309585571,
          0.42877328395843506,
          0.001114964485168457,
          0.0009196698665618896,
          0.00003310292959213257,
          -0.00019906461238861084,
          0.20035184919834137,
          -0.00019906461238861084,
          0.33344566822052,
          -0.00019906461238861084,
          1.000020980834961,
          0.999957799911499,
          0.7506171464920044,
          1.0001775026321411,
          -0.00019906461238861084,
          0.00003310292959213257,
          1.0003340244293213,
          0.6005973219871521,
          0.0002625882625579834,
          0.00003310292959213257,
          0.999957799911499,
          -0.0007845833897590637,
          0.5001978874206543,
          -0.00019906461238861084,
          0.999957799911499,
          0.33283084630966187,
          0.5001978874206543,
          -0.00019906461238861084,
          0.9988548755645752,
          0.33267754316329956,
          0.999957799911499,
          -0.00019906461238861084,
          0.999957799911499,
          0.00003310292959213257,
          0.00003310292959213257,
          0.0007036551833152771,
          0.599959135055542,
          -0.00019906461238861084,
          0.7503783702850342,
          -0.001065477728843689,
          0.9992907047271729,
          0.6674420833587646,
          0.8339162468910217,
          0.999091625213623
         ],
         "type": "candlestick",
         "x": [
          0,
          1,
          2,
          3,
          4,
          5,
          6,
          7,
          8,
          9,
          10,
          11,
          12,
          13,
          14,
          15,
          16,
          17,
          18,
          19,
          20,
          21,
          22,
          23,
          24,
          25,
          26,
          27,
          28,
          29,
          30,
          31,
          32,
          33,
          34,
          35,
          36,
          37,
          38,
          39,
          40,
          41,
          42,
          43,
          44,
          45,
          46,
          47,
          48,
          49
         ]
        }
       ],
       "layout": {
        "template": {
         "data": {
          "bar": [
           {
            "error_x": {
             "color": "#2a3f5f"
            },
            "error_y": {
             "color": "#2a3f5f"
            },
            "marker": {
             "line": {
              "color": "#E5ECF6",
              "width": 0.5
             },
             "pattern": {
              "fillmode": "overlay",
              "size": 10,
              "solidity": 0.2
             }
            },
            "type": "bar"
           }
          ],
          "barpolar": [
           {
            "marker": {
             "line": {
              "color": "#E5ECF6",
              "width": 0.5
             },
             "pattern": {
              "fillmode": "overlay",
              "size": 10,
              "solidity": 0.2
             }
            },
            "type": "barpolar"
           }
          ],
          "carpet": [
           {
            "aaxis": {
             "endlinecolor": "#2a3f5f",
             "gridcolor": "white",
             "linecolor": "white",
             "minorgridcolor": "white",
             "startlinecolor": "#2a3f5f"
            },
            "baxis": {
             "endlinecolor": "#2a3f5f",
             "gridcolor": "white",
             "linecolor": "white",
             "minorgridcolor": "white",
             "startlinecolor": "#2a3f5f"
            },
            "type": "carpet"
           }
          ],
          "choropleth": [
           {
            "colorbar": {
             "outlinewidth": 0,
             "ticks": ""
            },
            "type": "choropleth"
           }
          ],
          "contour": [
           {
            "colorbar": {
             "outlinewidth": 0,
             "ticks": ""
            },
            "colorscale": [
             [
              0,
              "#0d0887"
             ],
             [
              0.1111111111111111,
              "#46039f"
             ],
             [
              0.2222222222222222,
              "#7201a8"
             ],
             [
              0.3333333333333333,
              "#9c179e"
             ],
             [
              0.4444444444444444,
              "#bd3786"
             ],
             [
              0.5555555555555556,
              "#d8576b"
             ],
             [
              0.6666666666666666,
              "#ed7953"
             ],
             [
              0.7777777777777778,
              "#fb9f3a"
             ],
             [
              0.8888888888888888,
              "#fdca26"
             ],
             [
              1,
              "#f0f921"
             ]
            ],
            "type": "contour"
           }
          ],
          "contourcarpet": [
           {
            "colorbar": {
             "outlinewidth": 0,
             "ticks": ""
            },
            "type": "contourcarpet"
           }
          ],
          "heatmap": [
           {
            "colorbar": {
             "outlinewidth": 0,
             "ticks": ""
            },
            "colorscale": [
             [
              0,
              "#0d0887"
             ],
             [
              0.1111111111111111,
              "#46039f"
             ],
             [
              0.2222222222222222,
              "#7201a8"
             ],
             [
              0.3333333333333333,
              "#9c179e"
             ],
             [
              0.4444444444444444,
              "#bd3786"
             ],
             [
              0.5555555555555556,
              "#d8576b"
             ],
             [
              0.6666666666666666,
              "#ed7953"
             ],
             [
              0.7777777777777778,
              "#fb9f3a"
             ],
             [
              0.8888888888888888,
              "#fdca26"
             ],
             [
              1,
              "#f0f921"
             ]
            ],
            "type": "heatmap"
           }
          ],
          "heatmapgl": [
           {
            "colorbar": {
             "outlinewidth": 0,
             "ticks": ""
            },
            "colorscale": [
             [
              0,
              "#0d0887"
             ],
             [
              0.1111111111111111,
              "#46039f"
             ],
             [
              0.2222222222222222,
              "#7201a8"
             ],
             [
              0.3333333333333333,
              "#9c179e"
             ],
             [
              0.4444444444444444,
              "#bd3786"
             ],
             [
              0.5555555555555556,
              "#d8576b"
             ],
             [
              0.6666666666666666,
              "#ed7953"
             ],
             [
              0.7777777777777778,
              "#fb9f3a"
             ],
             [
              0.8888888888888888,
              "#fdca26"
             ],
             [
              1,
              "#f0f921"
             ]
            ],
            "type": "heatmapgl"
           }
          ],
          "histogram": [
           {
            "marker": {
             "pattern": {
              "fillmode": "overlay",
              "size": 10,
              "solidity": 0.2
             }
            },
            "type": "histogram"
           }
          ],
          "histogram2d": [
           {
            "colorbar": {
             "outlinewidth": 0,
             "ticks": ""
            },
            "colorscale": [
             [
              0,
              "#0d0887"
             ],
             [
              0.1111111111111111,
              "#46039f"
             ],
             [
              0.2222222222222222,
              "#7201a8"
             ],
             [
              0.3333333333333333,
              "#9c179e"
             ],
             [
              0.4444444444444444,
              "#bd3786"
             ],
             [
              0.5555555555555556,
              "#d8576b"
             ],
             [
              0.6666666666666666,
              "#ed7953"
             ],
             [
              0.7777777777777778,
              "#fb9f3a"
             ],
             [
              0.8888888888888888,
              "#fdca26"
             ],
             [
              1,
              "#f0f921"
             ]
            ],
            "type": "histogram2d"
           }
          ],
          "histogram2dcontour": [
           {
            "colorbar": {
             "outlinewidth": 0,
             "ticks": ""
            },
            "colorscale": [
             [
              0,
              "#0d0887"
             ],
             [
              0.1111111111111111,
              "#46039f"
             ],
             [
              0.2222222222222222,
              "#7201a8"
             ],
             [
              0.3333333333333333,
              "#9c179e"
             ],
             [
              0.4444444444444444,
              "#bd3786"
             ],
             [
              0.5555555555555556,
              "#d8576b"
             ],
             [
              0.6666666666666666,
              "#ed7953"
             ],
             [
              0.7777777777777778,
              "#fb9f3a"
             ],
             [
              0.8888888888888888,
              "#fdca26"
             ],
             [
              1,
              "#f0f921"
             ]
            ],
            "type": "histogram2dcontour"
           }
          ],
          "mesh3d": [
           {
            "colorbar": {
             "outlinewidth": 0,
             "ticks": ""
            },
            "type": "mesh3d"
           }
          ],
          "parcoords": [
           {
            "line": {
             "colorbar": {
              "outlinewidth": 0,
              "ticks": ""
             }
            },
            "type": "parcoords"
           }
          ],
          "pie": [
           {
            "automargin": true,
            "type": "pie"
           }
          ],
          "scatter": [
           {
            "fillpattern": {
             "fillmode": "overlay",
             "size": 10,
             "solidity": 0.2
            },
            "type": "scatter"
           }
          ],
          "scatter3d": [
           {
            "line": {
             "colorbar": {
              "outlinewidth": 0,
              "ticks": ""
             }
            },
            "marker": {
             "colorbar": {
              "outlinewidth": 0,
              "ticks": ""
             }
            },
            "type": "scatter3d"
           }
          ],
          "scattercarpet": [
           {
            "marker": {
             "colorbar": {
              "outlinewidth": 0,
              "ticks": ""
             }
            },
            "type": "scattercarpet"
           }
          ],
          "scattergeo": [
           {
            "marker": {
             "colorbar": {
              "outlinewidth": 0,
              "ticks": ""
             }
            },
            "type": "scattergeo"
           }
          ],
          "scattergl": [
           {
            "marker": {
             "colorbar": {
              "outlinewidth": 0,
              "ticks": ""
             }
            },
            "type": "scattergl"
           }
          ],
          "scattermapbox": [
           {
            "marker": {
             "colorbar": {
              "outlinewidth": 0,
              "ticks": ""
             }
            },
            "type": "scattermapbox"
           }
          ],
          "scatterpolar": [
           {
            "marker": {
             "colorbar": {
              "outlinewidth": 0,
              "ticks": ""
             }
            },
            "type": "scatterpolar"
           }
          ],
          "scatterpolargl": [
           {
            "marker": {
             "colorbar": {
              "outlinewidth": 0,
              "ticks": ""
             }
            },
            "type": "scatterpolargl"
           }
          ],
          "scatterternary": [
           {
            "marker": {
             "colorbar": {
              "outlinewidth": 0,
              "ticks": ""
             }
            },
            "type": "scatterternary"
           }
          ],
          "surface": [
           {
            "colorbar": {
             "outlinewidth": 0,
             "ticks": ""
            },
            "colorscale": [
             [
              0,
              "#0d0887"
             ],
             [
              0.1111111111111111,
              "#46039f"
             ],
             [
              0.2222222222222222,
              "#7201a8"
             ],
             [
              0.3333333333333333,
              "#9c179e"
             ],
             [
              0.4444444444444444,
              "#bd3786"
             ],
             [
              0.5555555555555556,
              "#d8576b"
             ],
             [
              0.6666666666666666,
              "#ed7953"
             ],
             [
              0.7777777777777778,
              "#fb9f3a"
             ],
             [
              0.8888888888888888,
              "#fdca26"
             ],
             [
              1,
              "#f0f921"
             ]
            ],
            "type": "surface"
           }
          ],
          "table": [
           {
            "cells": {
             "fill": {
              "color": "#EBF0F8"
             },
             "line": {
              "color": "white"
             }
            },
            "header": {
             "fill": {
              "color": "#C8D4E3"
             },
             "line": {
              "color": "white"
             }
            },
            "type": "table"
           }
          ]
         },
         "layout": {
          "annotationdefaults": {
           "arrowcolor": "#2a3f5f",
           "arrowhead": 0,
           "arrowwidth": 1
          },
          "autotypenumbers": "strict",
          "coloraxis": {
           "colorbar": {
            "outlinewidth": 0,
            "ticks": ""
           }
          },
          "colorscale": {
           "diverging": [
            [
             0,
             "#8e0152"
            ],
            [
             0.1,
             "#c51b7d"
            ],
            [
             0.2,
             "#de77ae"
            ],
            [
             0.3,
             "#f1b6da"
            ],
            [
             0.4,
             "#fde0ef"
            ],
            [
             0.5,
             "#f7f7f7"
            ],
            [
             0.6,
             "#e6f5d0"
            ],
            [
             0.7,
             "#b8e186"
            ],
            [
             0.8,
             "#7fbc41"
            ],
            [
             0.9,
             "#4d9221"
            ],
            [
             1,
             "#276419"
            ]
           ],
           "sequential": [
            [
             0,
             "#0d0887"
            ],
            [
             0.1111111111111111,
             "#46039f"
            ],
            [
             0.2222222222222222,
             "#7201a8"
            ],
            [
             0.3333333333333333,
             "#9c179e"
            ],
            [
             0.4444444444444444,
             "#bd3786"
            ],
            [
             0.5555555555555556,
             "#d8576b"
            ],
            [
             0.6666666666666666,
             "#ed7953"
            ],
            [
             0.7777777777777778,
             "#fb9f3a"
            ],
            [
             0.8888888888888888,
             "#fdca26"
            ],
            [
             1,
             "#f0f921"
            ]
           ],
           "sequentialminus": [
            [
             0,
             "#0d0887"
            ],
            [
             0.1111111111111111,
             "#46039f"
            ],
            [
             0.2222222222222222,
             "#7201a8"
            ],
            [
             0.3333333333333333,
             "#9c179e"
            ],
            [
             0.4444444444444444,
             "#bd3786"
            ],
            [
             0.5555555555555556,
             "#d8576b"
            ],
            [
             0.6666666666666666,
             "#ed7953"
            ],
            [
             0.7777777777777778,
             "#fb9f3a"
            ],
            [
             0.8888888888888888,
             "#fdca26"
            ],
            [
             1,
             "#f0f921"
            ]
           ]
          },
          "colorway": [
           "#636efa",
           "#EF553B",
           "#00cc96",
           "#ab63fa",
           "#FFA15A",
           "#19d3f3",
           "#FF6692",
           "#B6E880",
           "#FF97FF",
           "#FECB52"
          ],
          "font": {
           "color": "#2a3f5f"
          },
          "geo": {
           "bgcolor": "white",
           "lakecolor": "white",
           "landcolor": "#E5ECF6",
           "showlakes": true,
           "showland": true,
           "subunitcolor": "white"
          },
          "hoverlabel": {
           "align": "left"
          },
          "hovermode": "closest",
          "mapbox": {
           "style": "light"
          },
          "paper_bgcolor": "white",
          "plot_bgcolor": "#E5ECF6",
          "polar": {
           "angularaxis": {
            "gridcolor": "white",
            "linecolor": "white",
            "ticks": ""
           },
           "bgcolor": "#E5ECF6",
           "radialaxis": {
            "gridcolor": "white",
            "linecolor": "white",
            "ticks": ""
           }
          },
          "scene": {
           "xaxis": {
            "backgroundcolor": "#E5ECF6",
            "gridcolor": "white",
            "gridwidth": 2,
            "linecolor": "white",
            "showbackground": true,
            "ticks": "",
            "zerolinecolor": "white"
           },
           "yaxis": {
            "backgroundcolor": "#E5ECF6",
            "gridcolor": "white",
            "gridwidth": 2,
            "linecolor": "white",
            "showbackground": true,
            "ticks": "",
            "zerolinecolor": "white"
           },
           "zaxis": {
            "backgroundcolor": "#E5ECF6",
            "gridcolor": "white",
            "gridwidth": 2,
            "linecolor": "white",
            "showbackground": true,
            "ticks": "",
            "zerolinecolor": "white"
           }
          },
          "shapedefaults": {
           "line": {
            "color": "#2a3f5f"
           }
          },
          "ternary": {
           "aaxis": {
            "gridcolor": "white",
            "linecolor": "white",
            "ticks": ""
           },
           "baxis": {
            "gridcolor": "white",
            "linecolor": "white",
            "ticks": ""
           },
           "bgcolor": "#E5ECF6",
           "caxis": {
            "gridcolor": "white",
            "linecolor": "white",
            "ticks": ""
           }
          },
          "title": {
           "x": 0.05
          },
          "xaxis": {
           "automargin": true,
           "gridcolor": "white",
           "linecolor": "white",
           "ticks": "",
           "title": {
            "standoff": 15
           },
           "zerolinecolor": "white",
           "zerolinewidth": 2
          },
          "yaxis": {
           "automargin": true,
           "gridcolor": "white",
           "linecolor": "white",
           "ticks": "",
           "title": {
            "standoff": 15
           },
           "zerolinecolor": "white",
           "zerolinewidth": 2
          }
         }
        },
        "xaxis": {
         "rangeslider": {
          "visible": false
         }
        }
       }
      }
     },
     "metadata": {},
     "output_type": "display_data"
    },
    {
     "data": {
      "application/vnd.plotly.v1+json": {
       "config": {
        "plotlyServerURL": "https://plot.ly"
       },
       "data": [
        {
         "close": [
          12336.5,
          12336.5,
          12336,
          12337,
          12338.25,
          12337.5,
          12337,
          12336.25,
          12337.75,
          12339.75,
          12339.75,
          12340.25,
          12340.5,
          12340.5,
          12341.75,
          12341.25,
          12339.75,
          12340,
          12340.25,
          12339.5,
          12340.25,
          12340.75,
          12340,
          12339.5,
          12340,
          12339.75,
          12339.5,
          12340.5,
          12340.25,
          12340.25,
          12338.75,
          12338.25,
          12339,
          12339.25,
          12339.5,
          12339.75,
          12339.75,
          12342,
          12341.25,
          12341.25,
          12341.25,
          12344.25,
          12344.25,
          12345.75,
          12345.75,
          12346.75,
          12346.25,
          12347,
          12345.75,
          12344.5
         ],
         "high": [
          12337.25,
          12337,
          12336.5,
          12337,
          12338.75,
          12338.5,
          12337.25,
          12338,
          12338,
          12340,
          12339.75,
          12340.25,
          12341,
          12340.5,
          12342,
          12341.25,
          12340.75,
          12340.25,
          12340.5,
          12339.5,
          12340.25,
          12340.75,
          12340.75,
          12339.75,
          12340.5,
          12339.75,
          12339.75,
          12341,
          12340.25,
          12340.25,
          12340.25,
          12338.75,
          12339,
          12339.25,
          12339.75,
          12339.75,
          12340.5,
          12342,
          12342.25,
          12341.25,
          12341.25,
          12345.75,
          12345.5,
          12345.75,
          12346.25,
          12347.75,
          12346.5,
          12347.5,
          12347,
          12345.5
         ],
         "low": [
          12336.25,
          12336,
          12335.25,
          12337,
          12337.5,
          12337.5,
          12336.25,
          12336.25,
          12336.5,
          12338,
          12339.75,
          12340,
          12339.75,
          12340.25,
          12340.5,
          12341,
          12339.25,
          12340,
          12339.5,
          12339.25,
          12340,
          12340.75,
          12339.75,
          12338.5,
          12339.5,
          12339.75,
          12339.5,
          12340.25,
          12339.75,
          12339.75,
          12338.75,
          12338,
          12338.5,
          12338.75,
          12339,
          12339,
          12339.75,
          12340.5,
          12341.25,
          12341.25,
          12341.25,
          12342.25,
          12344.25,
          12344.25,
          12345.25,
          12346.5,
          12346,
          12344.5,
          12345.5,
          12343.25
         ],
         "open": [
          12337,
          12336.5,
          12335.25,
          12337,
          12337.5,
          12338.5,
          12337.25,
          12337,
          12336.5,
          12338,
          12339.75,
          12340,
          12340,
          12340.25,
          12341,
          12341,
          12340.75,
          12340.25,
          12340.25,
          12339.5,
          12340,
          12340.75,
          12340.75,
          12339.25,
          12339.5,
          12339.75,
          12339.75,
          12340.25,
          12340,
          12339.75,
          12340.25,
          12338.25,
          12338.75,
          12338.75,
          12339.75,
          12339.25,
          12340.5,
          12340.5,
          12342.25,
          12341.25,
          12341.25,
          12342.25,
          12345,
          12344.25,
          12346,
          12346.5,
          12346.5,
          12346.5,
          12346.75,
          12345.5
         ],
         "type": "candlestick",
         "x": [
          0,
          1,
          2,
          3,
          4,
          5,
          6,
          7,
          8,
          9,
          10,
          11,
          12,
          13,
          14,
          15,
          16,
          17,
          18,
          19,
          20,
          21,
          22,
          23,
          24,
          25,
          26,
          27,
          28,
          29,
          30,
          31,
          32,
          33,
          34,
          35,
          36,
          37,
          38,
          39,
          40,
          41,
          42,
          43,
          44,
          45,
          46,
          47,
          48,
          49
         ]
        }
       ],
       "layout": {
        "template": {
         "data": {
          "bar": [
           {
            "error_x": {
             "color": "#2a3f5f"
            },
            "error_y": {
             "color": "#2a3f5f"
            },
            "marker": {
             "line": {
              "color": "#E5ECF6",
              "width": 0.5
             },
             "pattern": {
              "fillmode": "overlay",
              "size": 10,
              "solidity": 0.2
             }
            },
            "type": "bar"
           }
          ],
          "barpolar": [
           {
            "marker": {
             "line": {
              "color": "#E5ECF6",
              "width": 0.5
             },
             "pattern": {
              "fillmode": "overlay",
              "size": 10,
              "solidity": 0.2
             }
            },
            "type": "barpolar"
           }
          ],
          "carpet": [
           {
            "aaxis": {
             "endlinecolor": "#2a3f5f",
             "gridcolor": "white",
             "linecolor": "white",
             "minorgridcolor": "white",
             "startlinecolor": "#2a3f5f"
            },
            "baxis": {
             "endlinecolor": "#2a3f5f",
             "gridcolor": "white",
             "linecolor": "white",
             "minorgridcolor": "white",
             "startlinecolor": "#2a3f5f"
            },
            "type": "carpet"
           }
          ],
          "choropleth": [
           {
            "colorbar": {
             "outlinewidth": 0,
             "ticks": ""
            },
            "type": "choropleth"
           }
          ],
          "contour": [
           {
            "colorbar": {
             "outlinewidth": 0,
             "ticks": ""
            },
            "colorscale": [
             [
              0,
              "#0d0887"
             ],
             [
              0.1111111111111111,
              "#46039f"
             ],
             [
              0.2222222222222222,
              "#7201a8"
             ],
             [
              0.3333333333333333,
              "#9c179e"
             ],
             [
              0.4444444444444444,
              "#bd3786"
             ],
             [
              0.5555555555555556,
              "#d8576b"
             ],
             [
              0.6666666666666666,
              "#ed7953"
             ],
             [
              0.7777777777777778,
              "#fb9f3a"
             ],
             [
              0.8888888888888888,
              "#fdca26"
             ],
             [
              1,
              "#f0f921"
             ]
            ],
            "type": "contour"
           }
          ],
          "contourcarpet": [
           {
            "colorbar": {
             "outlinewidth": 0,
             "ticks": ""
            },
            "type": "contourcarpet"
           }
          ],
          "heatmap": [
           {
            "colorbar": {
             "outlinewidth": 0,
             "ticks": ""
            },
            "colorscale": [
             [
              0,
              "#0d0887"
             ],
             [
              0.1111111111111111,
              "#46039f"
             ],
             [
              0.2222222222222222,
              "#7201a8"
             ],
             [
              0.3333333333333333,
              "#9c179e"
             ],
             [
              0.4444444444444444,
              "#bd3786"
             ],
             [
              0.5555555555555556,
              "#d8576b"
             ],
             [
              0.6666666666666666,
              "#ed7953"
             ],
             [
              0.7777777777777778,
              "#fb9f3a"
             ],
             [
              0.8888888888888888,
              "#fdca26"
             ],
             [
              1,
              "#f0f921"
             ]
            ],
            "type": "heatmap"
           }
          ],
          "heatmapgl": [
           {
            "colorbar": {
             "outlinewidth": 0,
             "ticks": ""
            },
            "colorscale": [
             [
              0,
              "#0d0887"
             ],
             [
              0.1111111111111111,
              "#46039f"
             ],
             [
              0.2222222222222222,
              "#7201a8"
             ],
             [
              0.3333333333333333,
              "#9c179e"
             ],
             [
              0.4444444444444444,
              "#bd3786"
             ],
             [
              0.5555555555555556,
              "#d8576b"
             ],
             [
              0.6666666666666666,
              "#ed7953"
             ],
             [
              0.7777777777777778,
              "#fb9f3a"
             ],
             [
              0.8888888888888888,
              "#fdca26"
             ],
             [
              1,
              "#f0f921"
             ]
            ],
            "type": "heatmapgl"
           }
          ],
          "histogram": [
           {
            "marker": {
             "pattern": {
              "fillmode": "overlay",
              "size": 10,
              "solidity": 0.2
             }
            },
            "type": "histogram"
           }
          ],
          "histogram2d": [
           {
            "colorbar": {
             "outlinewidth": 0,
             "ticks": ""
            },
            "colorscale": [
             [
              0,
              "#0d0887"
             ],
             [
              0.1111111111111111,
              "#46039f"
             ],
             [
              0.2222222222222222,
              "#7201a8"
             ],
             [
              0.3333333333333333,
              "#9c179e"
             ],
             [
              0.4444444444444444,
              "#bd3786"
             ],
             [
              0.5555555555555556,
              "#d8576b"
             ],
             [
              0.6666666666666666,
              "#ed7953"
             ],
             [
              0.7777777777777778,
              "#fb9f3a"
             ],
             [
              0.8888888888888888,
              "#fdca26"
             ],
             [
              1,
              "#f0f921"
             ]
            ],
            "type": "histogram2d"
           }
          ],
          "histogram2dcontour": [
           {
            "colorbar": {
             "outlinewidth": 0,
             "ticks": ""
            },
            "colorscale": [
             [
              0,
              "#0d0887"
             ],
             [
              0.1111111111111111,
              "#46039f"
             ],
             [
              0.2222222222222222,
              "#7201a8"
             ],
             [
              0.3333333333333333,
              "#9c179e"
             ],
             [
              0.4444444444444444,
              "#bd3786"
             ],
             [
              0.5555555555555556,
              "#d8576b"
             ],
             [
              0.6666666666666666,
              "#ed7953"
             ],
             [
              0.7777777777777778,
              "#fb9f3a"
             ],
             [
              0.8888888888888888,
              "#fdca26"
             ],
             [
              1,
              "#f0f921"
             ]
            ],
            "type": "histogram2dcontour"
           }
          ],
          "mesh3d": [
           {
            "colorbar": {
             "outlinewidth": 0,
             "ticks": ""
            },
            "type": "mesh3d"
           }
          ],
          "parcoords": [
           {
            "line": {
             "colorbar": {
              "outlinewidth": 0,
              "ticks": ""
             }
            },
            "type": "parcoords"
           }
          ],
          "pie": [
           {
            "automargin": true,
            "type": "pie"
           }
          ],
          "scatter": [
           {
            "fillpattern": {
             "fillmode": "overlay",
             "size": 10,
             "solidity": 0.2
            },
            "type": "scatter"
           }
          ],
          "scatter3d": [
           {
            "line": {
             "colorbar": {
              "outlinewidth": 0,
              "ticks": ""
             }
            },
            "marker": {
             "colorbar": {
              "outlinewidth": 0,
              "ticks": ""
             }
            },
            "type": "scatter3d"
           }
          ],
          "scattercarpet": [
           {
            "marker": {
             "colorbar": {
              "outlinewidth": 0,
              "ticks": ""
             }
            },
            "type": "scattercarpet"
           }
          ],
          "scattergeo": [
           {
            "marker": {
             "colorbar": {
              "outlinewidth": 0,
              "ticks": ""
             }
            },
            "type": "scattergeo"
           }
          ],
          "scattergl": [
           {
            "marker": {
             "colorbar": {
              "outlinewidth": 0,
              "ticks": ""
             }
            },
            "type": "scattergl"
           }
          ],
          "scattermapbox": [
           {
            "marker": {
             "colorbar": {
              "outlinewidth": 0,
              "ticks": ""
             }
            },
            "type": "scattermapbox"
           }
          ],
          "scatterpolar": [
           {
            "marker": {
             "colorbar": {
              "outlinewidth": 0,
              "ticks": ""
             }
            },
            "type": "scatterpolar"
           }
          ],
          "scatterpolargl": [
           {
            "marker": {
             "colorbar": {
              "outlinewidth": 0,
              "ticks": ""
             }
            },
            "type": "scatterpolargl"
           }
          ],
          "scatterternary": [
           {
            "marker": {
             "colorbar": {
              "outlinewidth": 0,
              "ticks": ""
             }
            },
            "type": "scatterternary"
           }
          ],
          "surface": [
           {
            "colorbar": {
             "outlinewidth": 0,
             "ticks": ""
            },
            "colorscale": [
             [
              0,
              "#0d0887"
             ],
             [
              0.1111111111111111,
              "#46039f"
             ],
             [
              0.2222222222222222,
              "#7201a8"
             ],
             [
              0.3333333333333333,
              "#9c179e"
             ],
             [
              0.4444444444444444,
              "#bd3786"
             ],
             [
              0.5555555555555556,
              "#d8576b"
             ],
             [
              0.6666666666666666,
              "#ed7953"
             ],
             [
              0.7777777777777778,
              "#fb9f3a"
             ],
             [
              0.8888888888888888,
              "#fdca26"
             ],
             [
              1,
              "#f0f921"
             ]
            ],
            "type": "surface"
           }
          ],
          "table": [
           {
            "cells": {
             "fill": {
              "color": "#EBF0F8"
             },
             "line": {
              "color": "white"
             }
            },
            "header": {
             "fill": {
              "color": "#C8D4E3"
             },
             "line": {
              "color": "white"
             }
            },
            "type": "table"
           }
          ]
         },
         "layout": {
          "annotationdefaults": {
           "arrowcolor": "#2a3f5f",
           "arrowhead": 0,
           "arrowwidth": 1
          },
          "autotypenumbers": "strict",
          "coloraxis": {
           "colorbar": {
            "outlinewidth": 0,
            "ticks": ""
           }
          },
          "colorscale": {
           "diverging": [
            [
             0,
             "#8e0152"
            ],
            [
             0.1,
             "#c51b7d"
            ],
            [
             0.2,
             "#de77ae"
            ],
            [
             0.3,
             "#f1b6da"
            ],
            [
             0.4,
             "#fde0ef"
            ],
            [
             0.5,
             "#f7f7f7"
            ],
            [
             0.6,
             "#e6f5d0"
            ],
            [
             0.7,
             "#b8e186"
            ],
            [
             0.8,
             "#7fbc41"
            ],
            [
             0.9,
             "#4d9221"
            ],
            [
             1,
             "#276419"
            ]
           ],
           "sequential": [
            [
             0,
             "#0d0887"
            ],
            [
             0.1111111111111111,
             "#46039f"
            ],
            [
             0.2222222222222222,
             "#7201a8"
            ],
            [
             0.3333333333333333,
             "#9c179e"
            ],
            [
             0.4444444444444444,
             "#bd3786"
            ],
            [
             0.5555555555555556,
             "#d8576b"
            ],
            [
             0.6666666666666666,
             "#ed7953"
            ],
            [
             0.7777777777777778,
             "#fb9f3a"
            ],
            [
             0.8888888888888888,
             "#fdca26"
            ],
            [
             1,
             "#f0f921"
            ]
           ],
           "sequentialminus": [
            [
             0,
             "#0d0887"
            ],
            [
             0.1111111111111111,
             "#46039f"
            ],
            [
             0.2222222222222222,
             "#7201a8"
            ],
            [
             0.3333333333333333,
             "#9c179e"
            ],
            [
             0.4444444444444444,
             "#bd3786"
            ],
            [
             0.5555555555555556,
             "#d8576b"
            ],
            [
             0.6666666666666666,
             "#ed7953"
            ],
            [
             0.7777777777777778,
             "#fb9f3a"
            ],
            [
             0.8888888888888888,
             "#fdca26"
            ],
            [
             1,
             "#f0f921"
            ]
           ]
          },
          "colorway": [
           "#636efa",
           "#EF553B",
           "#00cc96",
           "#ab63fa",
           "#FFA15A",
           "#19d3f3",
           "#FF6692",
           "#B6E880",
           "#FF97FF",
           "#FECB52"
          ],
          "font": {
           "color": "#2a3f5f"
          },
          "geo": {
           "bgcolor": "white",
           "lakecolor": "white",
           "landcolor": "#E5ECF6",
           "showlakes": true,
           "showland": true,
           "subunitcolor": "white"
          },
          "hoverlabel": {
           "align": "left"
          },
          "hovermode": "closest",
          "mapbox": {
           "style": "light"
          },
          "paper_bgcolor": "white",
          "plot_bgcolor": "#E5ECF6",
          "polar": {
           "angularaxis": {
            "gridcolor": "white",
            "linecolor": "white",
            "ticks": ""
           },
           "bgcolor": "#E5ECF6",
           "radialaxis": {
            "gridcolor": "white",
            "linecolor": "white",
            "ticks": ""
           }
          },
          "scene": {
           "xaxis": {
            "backgroundcolor": "#E5ECF6",
            "gridcolor": "white",
            "gridwidth": 2,
            "linecolor": "white",
            "showbackground": true,
            "ticks": "",
            "zerolinecolor": "white"
           },
           "yaxis": {
            "backgroundcolor": "#E5ECF6",
            "gridcolor": "white",
            "gridwidth": 2,
            "linecolor": "white",
            "showbackground": true,
            "ticks": "",
            "zerolinecolor": "white"
           },
           "zaxis": {
            "backgroundcolor": "#E5ECF6",
            "gridcolor": "white",
            "gridwidth": 2,
            "linecolor": "white",
            "showbackground": true,
            "ticks": "",
            "zerolinecolor": "white"
           }
          },
          "shapedefaults": {
           "line": {
            "color": "#2a3f5f"
           }
          },
          "ternary": {
           "aaxis": {
            "gridcolor": "white",
            "linecolor": "white",
            "ticks": ""
           },
           "baxis": {
            "gridcolor": "white",
            "linecolor": "white",
            "ticks": ""
           },
           "bgcolor": "#E5ECF6",
           "caxis": {
            "gridcolor": "white",
            "linecolor": "white",
            "ticks": ""
           }
          },
          "title": {
           "x": 0.05
          },
          "xaxis": {
           "automargin": true,
           "gridcolor": "white",
           "linecolor": "white",
           "ticks": "",
           "title": {
            "standoff": 15
           },
           "zerolinecolor": "white",
           "zerolinewidth": 2
          },
          "yaxis": {
           "automargin": true,
           "gridcolor": "white",
           "linecolor": "white",
           "ticks": "",
           "title": {
            "standoff": 15
           },
           "zerolinecolor": "white",
           "zerolinewidth": 2
          }
         }
        },
        "xaxis": {
         "rangeslider": {
          "visible": false
         }
        }
       }
      }
     },
     "metadata": {},
     "output_type": "display_data"
    }
   ],
   "source": [
    "#Plot the same candle chart for a validation set. Note that traning set was only 10K candles our of 350K in full dataset.\n",
    "#Below we try to use rest of 340K candles as validation and check it accuracy ;-). Traning set accuracy was 99%\n",
    "\n",
    "candles_validate = torch.tensor(df1.iloc[10000:].values,dtype=torch.float)\n",
    "candles_validate_norm = MinMaxNorm(candles_validate,dim=1)\n",
    "\n",
    "with torch.inference_mode():\n",
    "    out_validate = model0(candles_validate_norm)\n",
    "    print(f'Validation set accuracy: {accuracy(out_validate,candles_validate_norm,1e-3)*100 :.2f}%')\n",
    "\n",
    "plot_sample(out_validate[1000:1050].detach().numpy())\n",
    "plot_sample(candles_validate[1000:1050].detach().numpy())\n"
   ]
  }
 ],
 "metadata": {
  "kernelspec": {
   "display_name": "Python 3",
   "language": "python",
   "name": "python3"
  },
  "language_info": {
   "codemirror_mode": {
    "name": "ipython",
    "version": 3
   },
   "file_extension": ".py",
   "mimetype": "text/x-python",
   "name": "python",
   "nbconvert_exporter": "python",
   "pygments_lexer": "ipython3",
   "version": "3.11.4"
  },
  "orig_nbformat": 4
 },
 "nbformat": 4,
 "nbformat_minor": 2
}
